{
  "nbformat": 4,
  "nbformat_minor": 0,
  "metadata": {
    "colab": {
      "name": "오차역전파간단활용.ipynb",
      "provenance": [],
      "collapsed_sections": [],
      "authorship_tag": "ABX9TyPXUCw+Ylzujiqc/fnkYTdv",
      "include_colab_link": true
    },
    "kernelspec": {
      "name": "python3",
      "display_name": "Python 3"
    }
  },
  "cells": [
    {
      "cell_type": "markdown",
      "metadata": {
        "id": "view-in-github",
        "colab_type": "text"
      },
      "source": [
        "<a href=\"https://colab.research.google.com/github/chanhee922/DeepLearning_Practice/blob/master/%EC%98%A4%EC%B0%A8%EC%97%AD%EC%A0%84%ED%8C%8C%EA%B0%84%EB%8B%A8%ED%99%9C%EC%9A%A9.ipynb\" target=\"_parent\"><img src=\"https://colab.research.google.com/assets/colab-badge.svg\" alt=\"Open In Colab\"/></a>"
      ]
    },
    {
      "cell_type": "markdown",
      "metadata": {
        "id": "TpH00xWKwqQV",
        "colab_type": "text"
      },
      "source": [
        "# DL_4"
      ]
    },
    {
      "cell_type": "markdown",
      "metadata": {
        "id": "xkRH7Q1Hw1p6",
        "colab_type": "text"
      },
      "source": [
        "## sklearn package를 이용한 다양한 훈련데이터셋 수집하기"
      ]
    },
    {
      "cell_type": "code",
      "metadata": {
        "id": "gx4xQLEiwU_1",
        "colab_type": "code",
        "colab": {}
      },
      "source": [
        "from sklearn.datasets import load_wine\n",
        "from sklearn.datasets import load_iris\n",
        "from sklearn.datasets import load_diabetes\n",
        "from sklearn.datasets import load_boston\n",
        "from sklearn.datasets import load_breast_cancer\n",
        "from sklearn.datasets import load_digits\n",
        "from sklearn.datasets import load_files\n",
        "from sklearn.datasets import load_linnerud\n",
        "from sklearn.datasets import load_sample_image\n",
        "from sklearn.datasets import load_sample_images\n",
        "from sklearn.datasets import load_svmlight_file\n",
        "from sklearn.datasets import load_svmlight_files"
      ],
      "execution_count": 0,
      "outputs": []
    },
    {
      "cell_type": "code",
      "metadata": {
        "id": "Yhx4PCUNPST6",
        "colab_type": "code",
        "outputId": "08cdf3e5-a3fe-4092-91f1-b78ee37575b7",
        "colab": {
          "base_uri": "https://localhost:8080/",
          "height": 35
        }
      },
      "source": [
        "cancer = load_breast_cancer()\n",
        "type(cancer)"
      ],
      "execution_count": 0,
      "outputs": [
        {
          "output_type": "execute_result",
          "data": {
            "text/plain": [
              "sklearn.utils.Bunch"
            ]
          },
          "metadata": {
            "tags": []
          },
          "execution_count": 2
        }
      ]
    },
    {
      "cell_type": "code",
      "metadata": {
        "id": "CEjMB6dpPaK7",
        "colab_type": "code",
        "outputId": "7980d68c-3713-49e1-ac37-80989141fe42",
        "colab": {
          "base_uri": "https://localhost:8080/",
          "height": 35
        }
      },
      "source": [
        "cancer.keys()"
      ],
      "execution_count": 0,
      "outputs": [
        {
          "output_type": "execute_result",
          "data": {
            "text/plain": [
              "dict_keys(['data', 'target', 'target_names', 'DESCR', 'feature_names', 'filename'])"
            ]
          },
          "metadata": {
            "tags": []
          },
          "execution_count": 29
        }
      ]
    },
    {
      "cell_type": "code",
      "metadata": {
        "id": "-HbZ3NqiP9ZC",
        "colab_type": "code",
        "colab": {}
      },
      "source": [
        "from pprint import pprint as pp"
      ],
      "execution_count": 0,
      "outputs": []
    },
    {
      "cell_type": "code",
      "metadata": {
        "id": "qsWLFHgsP7xz",
        "colab_type": "code",
        "outputId": "e2057a7e-d1f6-47d2-b769-c5ef678f8c4a",
        "colab": {
          "base_uri": "https://localhost:8080/",
          "height": 53
        }
      },
      "source": [
        "pp( type(cancer.data) )\n",
        "pp( type(cancer.target) )"
      ],
      "execution_count": 0,
      "outputs": [
        {
          "output_type": "stream",
          "text": [
            "<class 'numpy.ndarray'>\n",
            "<class 'numpy.ndarray'>\n"
          ],
          "name": "stdout"
        }
      ]
    },
    {
      "cell_type": "code",
      "metadata": {
        "id": "CvDOy8AzPrR9",
        "colab_type": "code",
        "colab": {}
      },
      "source": [
        "import numpy as np"
      ],
      "execution_count": 0,
      "outputs": []
    },
    {
      "cell_type": "code",
      "metadata": {
        "id": "WvGlnrawQtAG",
        "colab_type": "code",
        "colab": {}
      },
      "source": [
        "np.info(cancer.data)"
      ],
      "execution_count": 0,
      "outputs": []
    },
    {
      "cell_type": "code",
      "metadata": {
        "id": "tzmqth9IRbLx",
        "colab_type": "code",
        "colab": {}
      },
      "source": [
        " diabetes = load_diabetes()"
      ],
      "execution_count": 0,
      "outputs": []
    },
    {
      "cell_type": "code",
      "metadata": {
        "id": "riVysQKPRLes",
        "colab_type": "code",
        "outputId": "85642f8a-c435-483f-aa0d-c2a14a1b81e5",
        "colab": {
          "base_uri": "https://localhost:8080/",
          "height": 359
        }
      },
      "source": [
        "pp( type(diabetes.data) )\n",
        "pp( diabetes.data.ndim )\n",
        "pp( diabetes.data.shape )\n",
        "pp( diabetes.data.dtype )\n",
        "pp( diabetes.data.size )\n",
        "pp(diabetes.keys())\n",
        "pp(diabetes.data)"
      ],
      "execution_count": 0,
      "outputs": [
        {
          "output_type": "stream",
          "text": [
            "<class 'numpy.ndarray'>\n",
            "2\n",
            "(442, 10)\n",
            "dtype('float64')\n",
            "4420\n",
            "dict_keys(['data', 'target', 'DESCR', 'feature_names', 'data_filename', 'target_filename'])\n",
            "array([[ 0.03807591,  0.05068012,  0.06169621, ..., -0.00259226,\n",
            "         0.01990842, -0.01764613],\n",
            "       [-0.00188202, -0.04464164, -0.05147406, ..., -0.03949338,\n",
            "        -0.06832974, -0.09220405],\n",
            "       [ 0.08529891,  0.05068012,  0.04445121, ..., -0.00259226,\n",
            "         0.00286377, -0.02593034],\n",
            "       ...,\n",
            "       [ 0.04170844,  0.05068012, -0.01590626, ..., -0.01107952,\n",
            "        -0.04687948,  0.01549073],\n",
            "       [-0.04547248, -0.04464164,  0.03906215, ...,  0.02655962,\n",
            "         0.04452837, -0.02593034],\n",
            "       [-0.04547248, -0.04464164, -0.0730303 , ..., -0.03949338,\n",
            "        -0.00421986,  0.00306441]])\n"
          ],
          "name": "stdout"
        }
      ]
    },
    {
      "cell_type": "code",
      "metadata": {
        "id": "6kytH8roRHKf",
        "colab_type": "code",
        "outputId": "68ab3d65-fa09-495c-ffb7-a3fec7ca7bc6",
        "colab": {
          "base_uri": "https://localhost:8080/",
          "height": 71
        }
      },
      "source": [
        "pp( diabetes.data[ :3, :3 ] )"
      ],
      "execution_count": 0,
      "outputs": [
        {
          "output_type": "stream",
          "text": [
            "array([[ 0.03807591,  0.05068012,  0.06169621],\n",
            "       [-0.00188202, -0.04464164, -0.05147406],\n",
            "       [ 0.08529891,  0.05068012,  0.04445121]])\n"
          ],
          "name": "stdout"
        }
      ]
    },
    {
      "cell_type": "code",
      "metadata": {
        "id": "BzNl38ViQqJX",
        "colab_type": "code",
        "outputId": "8afd0b1b-6d4c-402e-f98b-18681a8c1514",
        "colab": {
          "base_uri": "https://localhost:8080/",
          "height": 35
        }
      },
      "source": [
        "diabetes.data[0][0]"
      ],
      "execution_count": 0,
      "outputs": [
        {
          "output_type": "execute_result",
          "data": {
            "text/plain": [
              "0.0380759064334241"
            ]
          },
          "metadata": {
            "tags": []
          },
          "execution_count": 51
        }
      ]
    },
    {
      "cell_type": "code",
      "metadata": {
        "id": "m57udGTaPbnQ",
        "colab_type": "code",
        "outputId": "aef1d228-4c09-4766-99d4-c033c596aaa2",
        "colab": {
          "base_uri": "https://localhost:8080/",
          "height": 89
        }
      },
      "source": [
        "type( diabetes.target )\n",
        "pp( diabetes.target.ndim )\n",
        "pp( diabetes.target.shape )\n",
        "pp( diabetes.target.dtype )\n",
        "pp( diabetes.target.size )"
      ],
      "execution_count": 0,
      "outputs": [
        {
          "output_type": "stream",
          "text": [
            "1\n",
            "(442,)\n",
            "dtype('float64')\n",
            "442\n"
          ],
          "name": "stdout"
        }
      ]
    },
    {
      "cell_type": "code",
      "metadata": {
        "id": "DMi_ztPjaapS",
        "colab_type": "code",
        "outputId": "046bec0e-5fc9-4bd6-d07e-1ec193058e18",
        "colab": {
          "base_uri": "https://localhost:8080/",
          "height": 35
        }
      },
      "source": [
        "pp( diabetes.target[:5] )"
      ],
      "execution_count": 0,
      "outputs": [
        {
          "output_type": "stream",
          "text": [
            "array([151.,  75., 141., 206., 135.])\n"
          ],
          "name": "stdout"
        }
      ]
    },
    {
      "cell_type": "code",
      "metadata": {
        "id": "UDWYZPnYwYOx",
        "colab_type": "code",
        "outputId": "f0f6ee3e-4f13-48bd-925a-685eb4a21c4d",
        "colab": {
          "base_uri": "https://localhost:8080/",
          "height": 313
        }
      },
      "source": [
        "import matplotlib.pyplot as plt\n",
        "\n",
        "plt.scatter( diabetes.data[:,2], diabetes.target )\n",
        "plt.title('Scatter Plot Diabetes')\n",
        "plt.xlabel('BMI')\n",
        "plt.ylabel('target')\n"
      ],
      "execution_count": 0,
      "outputs": [
        {
          "output_type": "execute_result",
          "data": {
            "text/plain": [
              "Text(0, 0.5, 'target')"
            ]
          },
          "metadata": {
            "tags": []
          },
          "execution_count": 58
        },
        {
          "output_type": "display_data",
          "data": {
            "image/png": "[encoded data removed]",
            "text/plain": [
              "<Figure size 432x288 with 1 Axes>"
            ]
          },
          "metadata": {
            "tags": [],
            "needs_background": "light"
          }
        }
      ]
    },
    {
      "cell_type": "code",
      "metadata": {
        "id": "Yl9zroUacN9C",
        "colab_type": "code",
        "colab": {}
      },
      "source": [
        "x = diabetes.data[:, 2]\n",
        "y = diabetes.target\n",
        "w = 1.\n",
        "b = 1."
      ],
      "execution_count": 0,
      "outputs": []
    },
    {
      "cell_type": "code",
      "metadata": {
        "id": "a49nul5WoiXl",
        "colab_type": "code",
        "outputId": "7f74522a-884a-4d07-ef74-6369a3881684",
        "colab": {
          "base_uri": "https://localhost:8080/",
          "height": 35
        }
      },
      "source": [
        "x.shape, y.shape"
      ],
      "execution_count": 0,
      "outputs": [
        {
          "output_type": "execute_result",
          "data": {
            "text/plain": [
              "((442,), (442,))"
            ]
          },
          "metadata": {
            "tags": []
          },
          "execution_count": 61
        }
      ]
    },
    {
      "cell_type": "code",
      "metadata": {
        "id": "TEGL2buPms2d",
        "colab_type": "code",
        "outputId": "af699a61-0d65-4e16-9f8d-d5893915d412",
        "colab": {
          "base_uri": "https://localhost:8080/",
          "height": 53
        }
      },
      "source": [
        "# 주어진 문제 : 단순선형회귀(y = wx + b)\n",
        "\n",
        "y_hat = x[0] * w + b\n",
        "pp(y_hat)\n",
        "pp(y[0])\n"
      ],
      "execution_count": 0,
      "outputs": [
        {
          "output_type": "stream",
          "text": [
            "1.0616962065186886\n",
            "151.0\n"
          ],
          "name": "stdout"
        }
      ]
    },
    {
      "cell_type": "code",
      "metadata": {
        "id": "ecZnl8a0pYgE",
        "colab_type": "code",
        "outputId": "6239b34e-512d-4185-9937-86d3eb1ae979",
        "colab": {
          "base_uri": "https://localhost:8080/",
          "height": 53
        }
      },
      "source": [
        "w_rate = .1 \n",
        "w_inc = w + w_rate\n",
        "\n",
        "y_hat_inc = x[0] * w_inc + b\n",
        "pp(y_hat_inc)\n",
        "pp(y[0])"
      ],
      "execution_count": 0,
      "outputs": [
        {
          "output_type": "stream",
          "text": [
            "1.0678658271705574\n",
            "151.0\n"
          ],
          "name": "stdout"
        }
      ]
    },
    {
      "cell_type": "code",
      "metadata": {
        "id": "K_n7hgTPp_Bn",
        "colab_type": "code",
        "outputId": "863ffb69-3408-437e-f3f8-1f7ed156709d",
        "colab": {
          "base_uri": "https://localhost:8080/",
          "height": 53
        }
      },
      "source": [
        "w_rate = (y_hat_inc - y_hat) / (w_inc - w)\n",
        "\n",
        "pp(w_rate)\n",
        "pp(x[0])"
      ],
      "execution_count": 0,
      "outputs": [
        {
          "output_type": "stream",
          "text": [
            "0.061696206518688734\n",
            "0.0616962065186885\n"
          ],
          "name": "stdout"
        }
      ]
    },
    {
      "cell_type": "code",
      "metadata": {
        "id": "-qG_lRhzrFWO",
        "colab_type": "code",
        "outputId": "3474bec7-0443-4823-e86e-3064396e701b",
        "colab": {
          "base_uri": "https://localhost:8080/",
          "height": 53
        }
      },
      "source": [
        "w_new = w + w_rate\n",
        "print( 'w = ', w, ' w_rate = ', w_rate, ' w_new = ', w_new )\n",
        "pp(w_new)"
      ],
      "execution_count": 0,
      "outputs": [
        {
          "output_type": "stream",
          "text": [
            "w =  1.0  w_rate =  0.061696206518688734  w_new =  1.0616962065186888\n",
            "1.0616962065186888\n"
          ],
          "name": "stdout"
        }
      ]
    },
    {
      "cell_type": "code",
      "metadata": {
        "id": "9WFjL8XatifW",
        "colab_type": "code",
        "outputId": "edeacba4-2e66-4c35-db12-da3403c80707",
        "colab": {
          "base_uri": "https://localhost:8080/",
          "height": 53
        }
      },
      "source": [
        "b_inc = b + 2.34 \n",
        "\n",
        "y_hat_inc = x[0] * w + b_inc\n",
        "pp(y_hat_inc)\n",
        "pp(y[0])"
      ],
      "execution_count": 0,
      "outputs": [
        {
          "output_type": "stream",
          "text": [
            "3.401696206518688\n",
            "151.0\n"
          ],
          "name": "stdout"
        }
      ]
    },
    {
      "cell_type": "code",
      "metadata": {
        "id": "rA1Owb-7zOMA",
        "colab_type": "code",
        "outputId": "e48f3800-aa6f-4f61-d277-8fe495ec0056",
        "colab": {
          "base_uri": "https://localhost:8080/",
          "height": 35
        }
      },
      "source": [
        "b_rate = (y_hat_inc - y_hat) / (b_inc - b)\n",
        "pp(b_rate)"
      ],
      "execution_count": 0,
      "outputs": [
        {
          "output_type": "stream",
          "text": [
            "1.0\n"
          ],
          "name": "stdout"
        }
      ]
    },
    {
      "cell_type": "code",
      "metadata": {
        "id": "KJln8tqAzt4E",
        "colab_type": "code",
        "outputId": "4d983375-6f07-462d-c17e-196f9e8bfff6",
        "colab": {
          "base_uri": "https://localhost:8080/",
          "height": 35
        }
      },
      "source": [
        "b_new = b + 1\n",
        "print(b_new)"
      ],
      "execution_count": 0,
      "outputs": [
        {
          "output_type": "stream",
          "text": [
            "2.0\n"
          ],
          "name": "stdout"
        }
      ]
    },
    {
      "cell_type": "markdown",
      "metadata": {
        "id": "dcWOffd63xaO",
        "colab_type": "text"
      },
      "source": [
        "## 오차역전파 활용"
      ]
    },
    {
      "cell_type": "code",
      "metadata": {
        "id": "nRP8ZxnJ0RDc",
        "colab_type": "code",
        "outputId": "a6c1e552-43ec-4096-b8bb-3100543c76da",
        "colab": {
          "base_uri": "https://localhost:8080/",
          "height": 35
        }
      },
      "source": [
        "err = y[0] - y_hat\n",
        "w_new = w + (w_rate * err)\n",
        "b_new = b + (1*err)\n",
        "\n",
        "print(w_new, b_new)"
      ],
      "execution_count": 0,
      "outputs": [
        {
          "output_type": "stream",
          "text": [
            "10.250624555904514 150.9383037934813\n"
          ],
          "name": "stdout"
        }
      ]
    },
    {
      "cell_type": "code",
      "metadata": {
        "id": "04Eks6TV3kS7",
        "colab_type": "code",
        "outputId": "e39c0e83-5d19-4b5d-fb7e-781e870ea6f4",
        "colab": {
          "base_uri": "https://localhost:8080/",
          "height": 1000
        }
      },
      "source": [
        "for xi, yi in zip(x, y):\n",
        "    y_hat = xi * w + b\n",
        "    err = yi - y_hat\n",
        "\n",
        "    w = w + ( w_rate * err )\n",
        "    b = b + ( 1* err )\n",
        "\n",
        "    print('\\t* w=', w, 'b=', b)\n",
        "    pass\n",
        "\n",
        "print( ' - Adjusted w= ', w, 'b=', b )"
      ],
      "execution_count": 0,
      "outputs": [
        {
          "output_type": "stream",
          "text": [
            "\t* w= 10.215412776017372 b= 150.36757535045336\n",
            "\t* w= 5.597960923560831 b= 75.5258287828124\n",
            "\t* w= 9.622116665791992 b= 140.75116384473688\n",
            "\t* w= 13.654605694626428 b= 206.1115685823107\n",
            "\t* w= 9.297943498017599 b= 135.49681862537244\n",
            "\t* w= 6.946180964250388 b= 97.37838855536765\n",
            "\t* w= 9.472592058756597 b= 138.32760143348713\n",
            "\t* w= 4.8262721138222755 b= 63.01794777549637\n",
            "\t* w= 7.706515682673466 b= 109.70223731895024\n",
            "\t* w= 20.04555521431125 b= 309.69896690555936\n",
            "\t* w= 7.27326943850537 b= 102.67998637979628\n",
            "\t* w= 5.187486560756075 b= 68.87267478896972\n",
            "\t* w= 11.991154954090952 b= 179.14960715229\n",
            "\t* w= 12.353503719440573 b= 185.02271971132328\n",
            "\t* w= 8.237972577730844 b= 118.31633087584322\n",
            "\t* w= 11.497535092155353 b= 171.1487933293838\n",
            "\t* w= 11.149871517542596 b= 165.51370497905802\n",
            "\t* w= 9.814222292419231 b= 143.86489866681293\n",
            "\t* w= 6.929203994867621 b= 97.10321816255546\n",
            "\t* w= 11.310988046450307 b= 168.1251544991984\n",
            "\t* w= 5.173327484946695 b= 68.64317808879431\n",
            "\t* w= 3.968558851199304 b= 49.115743555482325\n",
            "\t* w= 5.1346375399052615 b= 68.01607397292435\n",
            "\t* w= 16.034671231348486 b= 244.6887465162749\n",
            "\t* w= 12.254961217782904 b= 183.42549830634405\n",
            "\t* w= 13.410519239501635 b= 202.1553049982465\n",
            "\t* w= 9.454674797059306 b= 138.03719035785863\n",
            "\t* w= 6.147750279813545 b= 84.43706315645537\n",
            "\t* w= 9.02858401169124 b= 131.13091832897794\n",
            "\t* w= 18.401787137078117 b= 283.0560309782878\n",
            "\t* w= 8.846648062440543 b= 128.18201823419514\n",
            "\t* w= 4.6141223314243085 b= 59.579328217360185\n",
            "\t* w= 21.941044250586756 b= 340.4219099069468\n",
            "\t* w= 6.374094114724745 b= 88.1057463329912\n",
            "\t* w= 4.973462207700571 b= 65.4036713423692\n",
            "\t* w= 7.240827674339308 b= 102.15415560353551\n",
            "\t* w= 17.277570613533335 b= 264.8342214541603\n",
            "\t* w= 17.95468961234373 b= 275.80927222337226\n",
            "\t* w= 16.4066593290335 b= 250.71809773047517\n",
            "\t* w= 6.476515371901362 b= 89.76583636049705\n",
            "\t* w= 7.111265534949123 b= 100.0541538902869\n",
            "\t* w= 4.361271942635274 b= 55.4810148354435\n",
            "\t* w= 4.704602296159011 b= 61.04586837987878\n",
            "\t* w= 6.621161574058778 b= 92.1103273805989\n",
            "\t* w= 16.8897766264488 b= 258.54868124080747\n",
            "\t* w= 4.244993748991751 b= 53.59632531878253\n",
            "\t* w= 12.663619766458734 b= 190.0492207640941\n",
            "\t* w= 9.756223497493801 b= 142.92482798503016\n",
            "\t* w= 5.590663822233571 b= 75.40755406643976\n",
            "\t* w= 9.694242217719921 b= 141.92020738886586\n",
            "\t* w= 10.505572209661361 b= 155.07061059389397\n",
            "\t* w= 14.809302322615569 b= 224.82741341532096\n",
            "\t* w= 4.587004539258325 b= 59.139790785544676\n",
            "\t* w= 7.359210756194198 b= 104.07296209966961\n",
            "\t* w= 12.155639522839467 b= 181.81564738441813\n",
            "\t* w= 8.872404927422066 b= 128.59949714310858\n",
            "\t* w= 4.123944179831077 b= 51.63429919122791\n",
            "\t* w= 3.237176593466998 b= 37.2611693603774\n",
            "\t* w= 11.439522526317326 b= 170.20849944242565\n",
            "\t* w= 11.444731383328556 b= 170.29292695110323\n",
            "\t* w= 4.7046323149941935 b= 61.046354938727035\n",
            "\t* w= 9.821230424389977 b= 143.97848963725\n",
            "\t* w= 4.150920004291252 b= 52.071535546302755\n",
            "\t* w= 8.845012226037 b= 128.15550385841988\n",
            "\t* w= 5.332708057125872 b= 71.2264904376807\n",
            "\t* w= 11.002855610604566 b= 163.13080471283985\n",
            "\t* w= 10.204995802414249 b= 150.19873233414938\n",
            "\t* w= 6.932171959665359 b= 97.15132427742387\n",
            "\t* w= 10.822492350296354 b= 160.20739547124282\n",
            "\t* w= 11.950999818722059 b= 178.4987545693725\n",
            "\t* w= 3.9511851243805998 b= 48.834142338826496\n",
            "\t* w= 17.588070958232525 b= 269.8669513774357\n",
            "\t* w= 13.405332593227488 b= 202.071237491234\n",
            "\t* w= 7.8033037747470555 b= 111.27102246045263\n",
            "\t* w= 6.181317941286558 b= 84.9811429851372\n",
            "\t* w= 3.541365081322131 b= 42.19159385516363\n",
            "\t* w= 11.420479157640472 b= 169.89983591590743\n",
            "\t* w= 13.30318176010239 b= 200.41553061897835\n",
            "\t* w= 16.533303196420125 b= 252.7707987721229\n",
            "\t* w= 7.948188461195521 b= 113.61937894173121\n",
            "\t* w= 9.754919548089473 b= 142.90369298374065\n",
            "\t* w= 4.098275407903248 b= 51.21824813434395\n",
            "\t* w= 4.155433808102267 b= 52.144697318568994\n",
            "\t* w= 13.891953357797618 b= 209.9586067806687\n",
            "\t* w= 4.982513155325572 b= 65.55037319221884\n",
            "\t* w= 9.615521469588746 b= 140.64426592385323\n",
            "\t* w= 4.376198541362868 b= 55.722951893973516\n",
            "\t* w= 9.207271042635252 b= 134.02715848743688\n",
            "\t* w= 3.5526619466680707 b= 42.37469855451843\n",
            "\t* w= 7.797156375361602 b= 111.17138263278196\n",
            "\t* w= 6.996850200780851 b= 98.19965844195465\n",
            "\t* w= 11.034036119378811 b= 163.63619249166214\n",
            "\t* w= 3.8966091666035014 b= 47.949550548558676\n",
            "\t* w= 6.876623642563778 b= 96.25097204774897\n",
            "\t* w= 6.498168070815102 b= 90.11679309082987\n",
            "\t* w= 10.95631848361322 b= 162.37650992524618\n",
            "\t* w= 10.186001347549348 b= 149.89086162480277\n",
            "\t* w= 18.095839751629384 b= 278.09709747633804\n",
            "\t* w= 6.620080080054498 b= 92.0927980369762\n",
            "\t* w= 6.085395261327785 b= 83.42638483433062\n",
            "\t* w= 8.828845706880694 b= 127.89346960917614\n",
            "\t* w= 7.255832557132097 b= 102.3973615255761\n",
            "\t* w= 19.5578966073829 b= 301.7947757981103\n",
            "\t* w= 13.104417334700788 b= 197.19386697679965\n",
            "\t* w= 6.746948261615037 b= 94.14913486413766\n",
            "\t* w= 4.2215536664413555 b= 53.2163978666255\n",
            "\t* w= 9.225458651166015 b= 134.32195146673052\n",
            "\t* w= 9.794189654405418 b= 143.5402006157625\n",
            "\t* w= 15.224312138980522 b= 231.55408009034957\n",
            "\t* w= 5.944562773835701 b= 81.14370822520351\n",
            "\t* w= 7.366472430612503 b= 104.19066260068985\n",
            "\t* w= 4.576302004240773 b= 58.96631926077083\n",
            "\t* w= 16.10971503982494 b= 245.90509048150253\n",
            "\t* w= 19.247891597815126 b= 296.77007449052076\n",
            "\t* w= 16.725062834576818 b= 255.87892565669245\n",
            "\t* w= 15.065353686619037 b= 228.97760965025324\n",
            "\t* w= 17.850420892624175 b= 274.11923768797544\n",
            "\t* w= 18.298390433931637 b= 281.38013048163145\n",
            "\t* w= 11.993798064250667 b= 179.1924478763612\n",
            "\t* w= 13.312444250801486 b= 200.56566125458374\n",
            "\t* w= 13.273789851923222 b= 199.9391332869922\n",
            "\t* w= 11.597411186644717 b= 172.76763020972106\n",
            "\t* w= 11.985594869477863 b= 179.05948678789753\n",
            "\t* w= 6.095088037740471 b= 83.58348973525756\n",
            "\t* w= 8.394529965228424 b= 120.8538837714195\n",
            "\t* w= 10.87572359347055 b= 161.07019151945804\n",
            "\t* w= 7.087275683668842 b= 99.66531553807775\n",
            "\t* w= 7.664018779350621 b= 109.01342830262955\n",
            "\t* w= 8.06280291997328 b= 115.47710189173199\n",
            "\t* w= 17.464715075187463 b= 267.8675434720616\n",
            "\t* w= 17.73942311539458 b= 272.32013554713353\n",
            "\t* w= 10.76269396077441 b= 159.23815614687965\n",
            "\t* w= 7.553938355876781 b= 107.22919504607603\n",
            "\t* w= 6.0840830140560085 b= 83.4051153374552\n",
            "\t* w= 7.276732214989418 b= 102.7361126261157\n",
            "\t* w= 17.694393054974974 b= 271.5902679756814\n",
            "\t* w= 6.271619824692085 b= 86.4447967249854\n",
            "\t* w= 18.19395666483645 b= 279.68742075135737\n",
            "\t* w= 21.543322576065858 b= 333.97545724862294\n",
            "\t* w= 18.192934850406473 b= 279.6708587212483\n",
            "\t* w= 8.202436235971362 b= 117.74034178729653\n",
            "\t* w= 20.471870004299316 b= 316.60886970256394\n",
            "\t* w= 15.421608297482365 b= 234.7519453990065\n",
            "\t* w= 4.634700485664023 b= 59.912868241956005\n",
            "\t* w= 11.660116808373855 b= 173.783991267676\n",
            "\t* w= 16.82516552555068 b= 257.5014353152651\n",
            "\t* w= 11.858422518547897 b= 176.99821984612146\n",
            "\t* w= 8.767412161353898 b= 126.89772693724731\n",
            "\t* w= 6.852836402152542 b= 95.86541770407914\n",
            "\t* w= 8.714193962581827 b= 126.03514231859738\n",
            "\t* w= 18.66900563592183 b= 287.38722918190456\n",
            "\t* w= 6.372235164858621 b= 88.07561563337418\n",
            "\t* w= 18.95391725278936 b= 292.00520543918424\n",
            "\t* w= 5.3701048014197745 b= 71.83263377134858\n",
            "\t* w= 13.085585218708818 b= 196.8886275292777\n",
            "\t* w= 12.364859098887363 b= 185.20677283367115\n",
            "\t* w= 2.4887321610352675 b= 25.130043726177888\n",
            "\t* w= 6.12587536170292 b= 84.08250459694318\n",
            "\t* w= 6.8858894680488465 b= 96.40115673507272\n",
            "\t* w= 12.950637601226905 b= 194.70133555305162\n",
            "\t* w= 4.257942556829935 b= 53.80620544867773\n",
            "\t* w= 14.309606802145026 b= 216.72812257287381\n",
            "\t* w= 11.523177711048735 b= 171.564420486065\n",
            "\t* w= 8.968982213609037 b= 130.16486544752314\n",
            "\t* w= 14.151882982638483 b= 214.17166362010553\n",
            "\t* w= 4.6364976735909735 b= 59.94199787614846\n",
            "\t* w= 5.274229129653291 b= 70.27863755056893\n",
            "\t* w= 14.48893824652364 b= 219.63480767553554\n",
            "\t* w= 17.419663068085683 b= 267.1373201788656\n",
            "\t* w= 10.344805615262871 b= 152.46483297043847\n",
            "\t* w= 3.850929028384251 b= 47.20914622231524\n",
            "\t* w= 5.514772305807119 b= 74.1774700676211\n",
            "\t* w= 19.11439272825097 b= 294.6062644753342\n",
            "\t* w= 7.263370519514321 b= 102.51954022678922\n",
            "\t* w= 10.249967128789853 b= 150.92764791767044\n",
            "\t* w= 8.79809430419278 b= 127.39503697574358\n",
            "\t* w= 15.549632279064143 b= 236.8270159552975\n",
            "\t* w= 14.79384988243728 b= 224.57695328089426\n",
            "\t* w= 5.943328338163802 b= 81.12369993390737\n",
            "\t* w= 10.260263499171877 b= 151.0945361424579\n",
            "\t* w= 7.536903621114897 b= 106.95308836589109\n",
            "\t* w= 4.9067869180614405 b= 64.32296811276413\n",
            "\t* w= 9.450669874229934 b= 137.97227675854094\n",
            "\t* w= 12.372688398994384 b= 185.33367366840324\n",
            "\t* w= 17.269498945734842 b= 264.70339221434233\n",
            "\t* w= 7.188864916418032 b= 101.31191973761509\n",
            "\t* w= 9.371924905971634 b= 136.69594272276117\n",
            "\t* w= 9.792493868908874 b= 143.51271455799295\n",
            "\t* w= 9.639264788219238 b= 141.0291083634497\n",
            "\t* w= 5.85188978455189 b= 79.64162252961495\n",
            "\t* w= 18.958171486651366 b= 292.0741599843996\n",
            "\t* w= 11.969089109181926 b= 178.7919539649365\n",
            "\t* w= 6.575547230221122 b= 91.37098947942934\n",
            "\t* w= 8.097144166730178 b= 116.03372034033148\n",
            "\t* w= 6.273661140420719 b= 86.4778832929257\n",
            "\t* w= 8.45554487768196 b= 121.84284104928815\n",
            "\t* w= 5.404472057637172 b= 72.38967379303924\n",
            "\t* w= 8.895949292807463 b= 128.9811148585879\n",
            "\t* w= 9.669444255305024 b= 141.51827080614612\n",
            "\t* w= 6.517812230105211 b= 90.43519450314628\n",
            "\t* w= 10.709603880218136 b= 158.37764812617684\n",
            "\t* w= 3.381315540949678 b= 39.59743856744802\n",
            "\t* w= 13.030480992786792 b= 195.99547333015636\n",
            "\t* w= 14.610390249740703 b= 221.6033566361637\n",
            "\t* w= 18.022088530535306 b= 276.90170435161275\n",
            "\t* w= 6.994406352762365 b= 98.16004744872868\n",
            "\t* w= 13.01948512260938 b= 195.81724729653337\n",
            "\t* w= 13.364366191161395 b= 201.40723553102143\n",
            "\t* w= 10.468119170544414 b= 154.46355480829072\n",
            "\t* w= 5.700576843047561 b= 77.18907398502179\n",
            "\t* w= 12.717259552391862 b= 190.91863865799468\n",
            "\t* w= 5.228081141048654 b= 69.5306500938255\n",
            "\t* w= 5.44099975559967 b= 72.98173123098617\n",
            "\t* w= 3.98520976603137 b= 49.3856291087703\n",
            "\t* w= 4.956708193572807 b= 65.13211470909899\n",
            "\t* w= 17.135650610986566 b= 262.53391790950434\n",
            "\t* w= 16.201084724565906 b= 247.38605162800832\n",
            "\t* w= 19.168877780229806 b= 295.48938282333734\n",
            "\t* w= 14.218738361154657 b= 215.2552858116244\n",
            "\t* w= 12.388747698816065 b= 185.5939700582116\n",
            "\t* w= 5.780889572164092 b= 78.49081899737044\n",
            "\t* w= 6.689796748748375 b= 93.22279731290854\n",
            "\t* w= 16.496316566558825 b= 252.1713027585376\n",
            "\t* w= 10.216602211031017 b= 150.3868542507418\n",
            "\t* w= 5.7308683295407254 b= 77.68005208890236\n",
            "\t* w= 13.759589943593813 b= 207.81320073915305\n",
            "\t* w= 5.728033921018657 b= 77.63411071451313\n",
            "\t* w= 7.6120669940827534 b= 108.171370286435\n",
            "\t* w= 10.81564844771184 b= 160.09646640492446\n",
            "\t* w= 4.2188167412777355 b= 53.17203654656967\n",
            "\t* w= 14.49288578642831 b= 219.69879118647447\n",
            "\t* w= 10.467234529848636 b= 154.44921615206383\n",
            "\t* w= 16.917452783736692 b= 258.9972689068825\n",
            "\t* w= 6.45244146157553 b= 89.3756355412857\n",
            "\t* w= 16.10002029925431 b= 245.7479537446161\n",
            "\t* w= 8.60336265281985 b= 124.23873835770885\n",
            "\t* w= 5.068378553625188 b= 66.9421183763189\n",
            "\t* w= 5.4019190925873755 b= 72.34829418165229\n",
            "\t* w= 16.79737480913033 b= 257.0509908229943\n",
            "\t* w= 17.082333977503954 b= 261.6697378165766\n",
            "\t* w= 17.82610694559396 b= 273.72514624537047\n",
            "\t* w= 11.867728437638007 b= 177.14905438871688\n",
            "\t* w= 5.335905095115308 b= 71.27830947437423\n",
            "\t* w= 3.8531969173043894 b= 47.24590519094744\n",
            "\t* w= 12.46262109933994 b= 186.79134352235639\n",
            "\t* w= 8.677476942937705 b= 125.4400162692674\n",
            "\t* w= 5.767778978519354 b= 78.27831657000051\n",
            "\t* w= 4.113866481346232 b= 51.470955299382894\n",
            "\t* w= 16.843822236495633 b= 257.80383171850764\n",
            "\t* w= 14.139993563416358 b= 213.9789545397099\n",
            "\t* w= 19.5831329173376 b= 302.20381731587474\n",
            "\t* w= 15.811664901223214 b= 241.07415912575652\n",
            "\t* w= 6.4945755730604855 b= 90.05856426352722\n",
            "\t* w= 10.17924227705511 b= 149.78130755534502\n",
            "\t* w= 20.028765764666677 b= 309.4268359174169\n",
            "\t* w= 10.458743895180778 b= 154.31159610786733\n",
            "\t* w= 22.18139722915165 b= 344.3176596155143\n",
            "\t* w= 4.901507450127173 b= 64.23739611033216\n",
            "\t* w= 6.43668377880113 b= 89.1202278969012\n",
            "\t* w= 4.037563170970058 b= 50.234196758109206\n",
            "\t* w= 3.3465387363533554 b= 39.03376040052893\n",
            "\t* w= 7.301638039174152 b= 103.13979748115133\n",
            "\t* w= 19.883324565082535 b= 307.06945921970885\n",
            "\t* w= 8.189940617848658 b= 117.53780716113744\n",
            "\t* w= 9.86996214904195 b= 144.76835545561624\n",
            "\t* w= 5.519415921598295 b= 74.25273589113286\n",
            "\t* w= 3.7358316371236007 b= 45.34359568436149\n",
            "\t* w= 8.033555826230137 b= 115.0030517775767\n",
            "\t* w= 17.182168044359067 b= 263.2878934940228\n",
            "\t* w= 6.339874003448076 b= 87.55109130300491\n",
            "\t* w= 13.389031155071656 b= 201.80701641386702\n",
            "\t* w= 8.766383854880242 b= 126.88105968116022\n",
            "\t* w= 12.163374636569547 b= 181.9410216037835\n",
            "\t* w= 15.822261473694143 b= 241.2459131616828\n",
            "\t* w= 5.03419774890234 b= 66.38810044472214\n",
            "\t* w= 6.741348512274797 b= 94.05837159592063\n",
            "\t* w= 18.387463024961754 b= 282.8238592950576\n",
            "\t* w= 4.953814042803668 b= 65.08520500536758\n",
            "\t* w= 7.24243716768887 b= 102.18024299918561\n",
            "\t* w= 13.288505304834265 b= 200.17764799869636\n",
            "\t* w= 17.272562648338738 b= 264.7530500908435\n",
            "\t* w= 6.833949219053956 b= 95.55928570400448\n",
            "\t* w= 15.130593464867923 b= 230.0350454624393\n",
            "\t* w= 12.154374358618576 b= 181.7951410309115\n",
            "\t* w= 10.579689149994016 b= 156.27193146133183\n",
            "\t* w= 15.326716421367003 b= 233.21389498278498\n",
            "\t* w= 4.691807608511956 b= 60.83848629969896\n",
            "\t* w= 14.451569438331573 b= 219.02911714283246\n",
            "\t* w= 5.889143435236916 b= 80.24544653739636\n",
            "\t* w= 5.1135789314836035 b= 67.67474652979733\n",
            "\t* w= 21.39721939763725 b= 331.60735089861026\n",
            "\t* w= 16.2144301299198 b= 247.60235998968778\n",
            "\t* w= 6.143166528175938 b= 84.36276763820143\n",
            "\t* w= 13.242315066335731 b= 199.428975736577\n",
            "\t* w= 4.3569186019744635 b= 55.41045392244013\n",
            "\t* w= 6.171981231875515 b= 84.82980937910408\n",
            "\t* w= 6.452560629133032 b= 89.37756706291766\n",
            "\t* w= 2.8542149274429334 b= 31.053953590829977\n",
            "\t* w= 8.90371136537225 b= 129.10692603893068\n",
            "\t* w= 6.0666425070693935 b= 83.12243171765562\n",
            "\t* w= 17.87723084202057 b= 274.55378546504636\n",
            "\t* w= 4.975611392065218 b= 65.43850629391528\n",
            "\t* w= 13.14381584119009 b= 197.83245577686438\n",
            "\t* w= 15.470428203986053 b= 235.54324050868087\n",
            "\t* w= 16.5842294925627 b= 253.59623519708617\n",
            "\t* w= 8.629170038805093 b= 124.65703613388453\n",
            "\t* w= 3.6539455971694226 b= 44.01634973886934\n",
            "\t* w= 11.557038802007636 b= 172.11325635247522\n",
            "\t* w= 8.004531115218173 b= 114.53260614323824\n",
            "\t* w= 9.698503988200875 b= 141.98928409100753\n",
            "\t* w= 7.624338944228354 b= 108.37027960093044\n",
            "\t* w= 12.024739416696235 b= 179.69395930131742\n",
            "\t* w= 9.839955339879204 b= 144.28199153057244\n",
            "\t* w= 10.962565048031607 b= 162.4777570645903\n",
            "\t* w= 9.980497539471054 b= 146.55996302221155\n",
            "\t* w= 6.935284936920947 b= 97.20178081975044\n",
            "\t* w= 14.50536230986063 b= 219.90101631726174\n",
            "\t* w= 12.691215509128366 b= 190.49650503369148\n",
            "\t* w= 7.657922444849356 b= 108.91461615768176\n",
            "\t* w= 12.720119050932777 b= 190.9649867027493\n",
            "\t* w= 8.441352461113828 b= 121.61280394702598\n",
            "\t* w= 15.101351859088748 b= 229.56108429968435\n",
            "\t* w= 15.811303654586112 b= 241.06830387699029\n",
            "\t* w= 16.246068305520872 b= 248.1151658392904\n",
            "\t* w= 16.294996125570496 b= 248.90821006049063\n",
            "\t* w= 12.729534783930491 b= 191.11760115879144\n",
            "\t* w= 9.027073730054461 b= 131.10643900160926\n",
            "\t* w= 15.496530531536267 b= 235.9663188310459\n",
            "\t* w= 5.686469211300057 b= 76.96041111345241\n",
            "\t* w= 9.28686303329394 b= 135.3172214451098\n",
            "\t* w= 15.97473735008052 b= 243.71731108045424\n",
            "\t* w= 13.24108623319265 b= 199.40905825360005\n",
            "\t* w= 17.5106587368074 b= 268.6122191046878\n",
            "\t* w= 11.063186210594361 b= 164.10867034500842\n",
            "\t* w= 5.412621953075922 b= 72.52177098180695\n",
            "\t* w= 6.877249008778181 b= 96.261108265998\n",
            "\t* w= 19.78110432823216 b= 305.41262742050554\n",
            "\t* w= 6.568124746262249 b= 91.25068250469462\n",
            "\t* w= 14.154725818263643 b= 214.2177415847905\n",
            "\t* w= 6.805804273980411 b= 95.10309971362247\n",
            "\t* w= 14.270458188891231 b= 216.09358415531437\n",
            "\t* w= 17.111984606267846 b= 262.15032860873345\n",
            "\t* w= 11.897195206569108 b= 177.62666509760498\n",
            "\t* w= 7.896334457478117 b= 112.77890581310069\n",
            "\t* w= 13.283193885440792 b= 200.09155811257247\n",
            "\t* w= 9.51651254540615 b= 139.0394845317818\n",
            "\t* w= 9.503798206091641 b= 138.83340477369072\n",
            "\t* w= 6.385112229787909 b= 88.28433292177655\n",
            "\t* w= 10.077306788015559 b= 148.1290910773566\n",
            "\t* w= 6.403593676572782 b= 88.58388856429849\n",
            "\t* w= 15.906533017553894 b= 242.61182443264923\n",
            "\t* w= 5.358672343189676 b= 71.64733132124363\n",
            "\t* w= 5.712699890762993 b= 77.38556982162982\n",
            "\t* w= 7.682851943038649 b= 109.31868473168295\n",
            "\t* w= 17.698091080122303 b= 271.65020723866047\n",
            "\t* w= 4.650383102907428 b= 60.16705919028698\n",
            "\t* w= 4.279410405373401 b= 54.154166040662716\n",
            "\t* w= 14.560006436181435 b= 220.78671301409588\n",
            "\t* w= 6.5672154448017475 b= 91.23594413564712\n",
            "\t* w= 20.123534806049154 b= 310.9628953727704\n",
            "\t* w= 18.249188976031757 b= 280.58265101447864\n",
            "\t* w= 12.17521421400771 b= 182.13292282601788\n",
            "\t* w= 20.664057515953456 b= 319.72393175416556\n",
            "\t* w= 4.5479553387605876 b= 58.50686369486681\n",
            "\t* w= 17.104451239927478 b= 262.02822440224406\n",
            "\t* w= 13.68839315197091 b= 206.6592109618182\n",
            "\t* w= 15.197699597524664 b= 231.1227319904014\n",
            "\t* w= 15.708866298479943 b= 239.40795291075798\n",
            "\t* w= 8.524595136802905 b= 122.96203885766604\n",
            "\t* w= 11.221592980859619 b= 166.67619887234622\n",
            "\t* w= 4.865279034436396 b= 63.65018957471142\n",
            "\t* w= 13.09528989248219 b= 197.04592526800397\n",
            "\t* w= 5.337681173365281 b= 71.30709695338126\n",
            "\t* w= 11.306729957774218 b= 168.0561374734142\n",
            "\t* w= 9.599650299712128 b= 140.3870188292235\n",
            "\t* w= 14.328141117463636 b= 217.02853513248562\n",
            "\t* w= 8.343289168920478 b= 120.023349785632\n",
            "\t* w= 15.431784790845542 b= 234.91689060289195\n",
            "\t* w= 16.051573642581186 b= 244.9627084368928\n",
            "\t* w= 3.4443193466597855 b= 40.61863272613627\n",
            "\t* w= 4.140954208170457 b= 51.910005418550504\n",
            "\t* w= 7.377497548597772 b= 104.36936269600184\n",
            "\t* w= 9.054611766557906 b= 131.5527879435835\n",
            "\t* w= 6.383681010516111 b= 88.26113507295312\n",
            "\t* w= 5.207125143733243 b= 69.19098581788553\n",
            "\t* w= 14.45592183826016 b= 219.0996628080229\n",
            "\t* w= 5.416726376701607 b= 72.58829733500244\n",
            "\t* w= 13.334111368658466 b= 200.91685169366565\n",
            "\t* w= 7.745065440030135 b= 110.32706920946507\n",
            "\t* w= 4.084170625460248 b= 50.98963144558982\n",
            "\t* w= 18.01070582938531 b= 276.7172083867507\n",
            "\t* w= 4.902722539634578 b= 64.25709083025038\n",
            "\t* w= 8.22750568632798 b= 118.1466787692799\n",
            "\t* w= 5.218735061150832 b= 69.37916460670743\n",
            "\t* w= 17.775384657204366 b= 272.9030164702727\n",
            "\t* w= 16.854456924764808 b= 257.97620355251905\n",
            "\t* w= 3.6234716692330817 b= 43.52241454162004\n",
            "\t* w= 13.155058153500478 b= 198.01467625596274\n",
            "\t* w= 15.856327214008765 b= 241.79806607734554\n",
            "\t* w= 15.229426121763058 b= 231.63696983464854\n",
            "\t* w= 11.692360961267248 b= 174.3066190711153\n",
            "\t* w= 6.708518029776901 b= 93.52624029724913\n",
            "\t* w= 11.316987465732346 b= 168.2223957984706\n",
            "\t* w= 17.836849379850165 b= 273.8992644750374\n",
            "\t* w= 18.955700397733796 b= 292.0341074583692\n",
            "\t* w= 18.13093618163642 b= 278.66595627637486\n",
            "\t* w= 5.470562647929668 b= 73.46089995136839\n",
            "\t* w= 9.544399945787271 b= 139.49149612138694\n",
            "\t* w= 12.628562821637658 b= 189.4810019577976\n",
            "\t* w= 12.11435124826397 b= 181.14642836909687\n",
            "\t* w= 13.85356068508636 b= 209.33632098908407\n",
            "\t* w= 9.279019040450898 b= 135.19008246387162\n",
            "\t* w= 16.99211925822992 b= 260.20749687236696\n",
            "\t* w= 7.910831520100462 b= 113.01388075630001\n",
            "\t* w= 9.01722322606736 b= 130.94677758086823\n",
            "\t* w= 11.668501631146434 b= 173.91989626485022\n",
            "\t* w= 16.73662299925236 b= 256.0662980305846\n",
            "\t* w= 4.257872099344629 b= 53.805063441911386\n",
            "\t* w= 6.127228712617932 b= 84.10444032024581\n",
            "\t* w= 3.550225365718822 b= 42.33520534923514\n",
            "\t* w= 9.953919482179769 b= 146.1291738571882\n",
            "\t* w= 14.007810766274734 b= 211.83647602117097\n",
            "\t* w= 15.246228131380093 b= 231.90930440050127\n",
            "\t* w= 6.589924762705145 b= 91.60402702412287\n",
            "\t* w= 7.782094537869455 b= 110.92725356323241\n",
            "\t* w= 10.33566635172016 b= 152.3166996562785\n",
            "\t* w= 8.363675473668994 b= 120.35378022696449\n",
            "\t* w= 5.069034201407916 b= 66.95274541191341\n",
            "\t* w= 20.036406052909705 b= 309.5506731624298\n",
            "\t* w= 6.7787278024927 b= 94.66423202603596\n",
            "\t* w= 12.252490982930155 b= 183.3854596233821\n",
            "\t* w= 5.033684020313775 b= 66.3797736995694\n",
            "\t* w= 11.594595542917755 b= 172.72199298361207\n",
            "\t* w= 5.4234202884192015 b= 72.6967952815587\n",
            "\t* w= 3.9609699677432006 b= 48.992739502489016\n",
            "\t* w= 4.892591878635767 b= 64.09288849804133\n",
            "\t* w= 3.9220915638618417 b= 48.36258076056405\n",
            "\t* w= 11.915470891373193 b= 177.92288565694423\n",
            "\t* w= 7.366402591167047 b= 104.18953061139271\n",
            "\t* w= 9.089432117879722 b= 132.11717193551112\n",
            "\t* w= 14.489563817473332 b= 219.6449472122265\n",
            "\t* w= 4.52027308607426 b= 58.05817723181903\n",
            " - Adjusted w=  4.52027308607426 b= 58.05817723181903\n"
          ],
          "name": "stdout"
        }
      ]
    },
    {
      "cell_type": "code",
      "metadata": {
        "id": "tFd2Qmh93en_",
        "colab_type": "code",
        "colab": {}
      },
      "source": [
        ""
      ],
      "execution_count": 0,
      "outputs": []
    }
  ]
}