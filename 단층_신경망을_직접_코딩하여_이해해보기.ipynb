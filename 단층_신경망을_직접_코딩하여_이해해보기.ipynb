{
  "nbformat": 4,
  "nbformat_minor": 0,
  "metadata": {
    "colab": {
      "name": "단층 신경망을 직접 코딩하여 이해해보기.ipynb",
      "provenance": [],
      "collapsed_sections": [],
      "authorship_tag": "ABX9TyN4bFUpx13yqJIiRXpJHLQ9",
      "include_colab_link": true
    },
    "kernelspec": {
      "name": "python3",
      "display_name": "Python 3"
    }
  },
  "cells": [
    {
      "cell_type": "markdown",
      "metadata": {
        "id": "view-in-github",
        "colab_type": "text"
      },
      "source": [
        "<a href=\"https://colab.research.google.com/github/chanhee922/DeepLearning_Practice/blob/master/%EB%8B%A8%EC%B8%B5_%EC%8B%A0%EA%B2%BD%EB%A7%9D%EC%9D%84_%EC%A7%81%EC%A0%91_%EC%BD%94%EB%94%A9%ED%95%98%EC%97%AC_%EC%9D%B4%ED%95%B4%ED%95%B4%EB%B3%B4%EA%B8%B0.ipynb\" target=\"_parent\"><img src=\"https://colab.research.google.com/assets/colab-badge.svg\" alt=\"Open In Colab\"/></a>"
      ]
    },
    {
      "cell_type": "markdown",
      "metadata": {
        "id": "jfackIOi-DMg",
        "colab_type": "text"
      },
      "source": [
        "- 학습률(learning rate) = 가중치 변화율(w_grad) * 학습률(lr)  \n",
        "        목적: 가중치의 변화량(업데이트 속도)을 더 크게(빠르게) 함  \n",
        "        효과: 더 빠르게 손실 함수의 오차값을 줄여나가서 결국 전역 최소값을 더 빠르게 찾아갈 수 있도록 도와주는 역할  \n",
        "        부작용: 학습율이 너무 높으면 너무 크게 가중치가 커지고  \n",
        "        반대로 손실함수의 오차값이 너무 빠르게 감소하다가 손실함수의 전역 최소값을 뛰어넘게(오차값이 커진다) 됨.  \n",
        "        결국 분석가가 적절한 값을 찾아야 할 하이퍼파라미터임(모델튜닝)"
      ]
    },
    {
      "cell_type": "code",
      "metadata": {
        "id": "5a85vQYRbvjP",
        "colab_type": "code",
        "colab": {}
      },
      "source": [
        "import numpy as np"
      ],
      "execution_count": 0,
      "outputs": []
    },
    {
      "cell_type": "code",
      "metadata": {
        "id": "niw3sNHZ-Gyf",
        "colab_type": "code",
        "colab": {}
      },
      "source": [
        "class SingleLayer:\n",
        "    \n",
        "    def __init__(self, learning_rate = .1):     # 학습율(에타) 하이퍼 파라미터 추가\n",
        "        self.w = None\n",
        "        self.b = None\n",
        "        \n",
        "        # 손실함수의 평균오차값을 매 훈련시마다(epoch) 저장\n",
        "        self.losses = []  \n",
        "        self.w_history = []         # 매 훈련시 마다 학습으로 변하는 가중치의 변화를 저장\n",
        "        self.lr = learning_rate     # 학습율 저장\n",
        "        pass # constructor\n",
        "    \n",
        "    \n",
        "    # 정방향계산(=뉴런의 선형함수 계산)\n",
        "    def forpass(self, x):\n",
        "        # z = w1x1 + w2x2 + ..... wnxn + b\n",
        "        z = np.sum(x * self.w) + self.b\n",
        "        return z\n",
        "        \n",
        "        pass # forpass\n",
        "    \n",
        "    \n",
        "    # 역방향계산(오차역전파와 손실함수의 미분을 통한 가중치와 절편의 변화율 계산)\n",
        "    def backprop(self, x, err):\n",
        "        w_grad = x * err    # 가중치(w)에 대한 변화율(=gradient) 계산\n",
        "        b_grad = 1 * err    # 절편(b)에 대한 변화율(=gradient) 계산\n",
        "        \n",
        "        return w_grad, b_grad\n",
        "        pass # backprop\n",
        "    \n",
        "    \n",
        "    # 활성화함수(시그모이드) 통과하여 반환\n",
        "    def activation(self, z):\n",
        "        # **** 안전한 지수(또는 로그) 계산을 위해, 지정됨 범위 값을 가지도록 함\n",
        "#       z = np.clip(z, 1e-10, 1 - 1e-10)   # 1st. method\n",
        "        z = np.clip(z, -100, None)         # 2nd. method\n",
        "    \n",
        "        a = 1 / (1 + np.exp(-z))\n",
        "        return a\n",
        "        pass # activation\n",
        "    \n",
        "    \n",
        "    # 신경망 훈련을 통한 최적의 가중치(w)와 절편(b)을\n",
        "    # 찾아가도록 훈련\n",
        "    def fit(self, x, y, epochs=100):        \n",
        "        # (1). 가중치와 절편의 초기값 설정\n",
        "        self.w = np.ones(x.shape[1])  # 1-D, vector with all elements is 1\n",
        "        self.b = 0\n",
        "        \n",
        "        # (2)  epoch 돌립니다.\n",
        "        for i in range(epochs):\n",
        "            \n",
        "            # (3) 전체샘플을 활용한 학습(가중치와 절편을 업데이트) 수행\n",
        "            #\n",
        "            # 신경망을 훈련시킬 훈련 데이터 셋은, 있는 그대로 밀어넣는게 아니라,\n",
        "            # 매 에포크(epoch) 마다, shuffling해서, 밀어 넣어야 함!!!\n",
        "            # 전체 sample 을 무작위로 섞는 shuffling 함수 ==> np.random.permutation()함수\n",
        "            \n",
        "            indexes = np.arange( len(x) )  # 전체 샘플의 index 번호를 1-D, Vector로 생성\n",
        "            indexes = np.random.permutation( indexes ) # shuffling 후 다시 저장\n",
        "            \n",
        "            # 매 epoch 마다 평균 손실함수의 오차값 산출하여, 리스트에 저장\n",
        "            loss = 0\n",
        "            \n",
        "            for i in indexes:\n",
        "#             for xi, yi in zip(x, y):\n",
        "                xi = x[i]   # 매번 샘플의 입력데이타\n",
        "                yi = y[i]   # 맨번 샘플의 정답데이타\n",
        "        \n",
        "                # (4) 정방향계산 수행\n",
        "                z = self.forpass(xi)\n",
        "                \n",
        "                # (5) 활성화함수 통과\n",
        "                a = self.activation(z)\n",
        "                \n",
        "                # (6) 오차계산\n",
        "                err = -(yi - a)\n",
        "                \n",
        "                # (7) 오차역전파를 통한, 가중치와 절편의 변화율 계산\n",
        "                w_grad, b_grad = self.backprop(xi, err)\n",
        "                \n",
        "                # (8) 계산된 가중치와 절편의 변화율을 이용한 , 가중치/절편의 업데이트\n",
        "                self.w -= w_grad\n",
        "                self.b -= b_grad\n",
        "                \n",
        "                # 매번 업데이트되는 가중치를 파이썬 리스트에 추가\n",
        "                \n",
        "                self.w_history.append(self.w.copy()) # Deep copy\n",
        "\n",
        "                # (9) 로지스틱 손실함수의 계산 수행\n",
        "                # 안전한 로그계산을 위한 클리핑 수행\n",
        "                a = np.clip(a, 1e-10, 1 - 1e-10) # 1st.method\n",
        "#                 a = np.clip(a, -100, None)       # 2st.method\n",
        "\n",
        "                L = -( yi * np.log(a) + (1 - yi) * np.log(1-a)   )\n",
        "                loss += L\n",
        "                \n",
        "                pass # traninig loop (1 epoch)\n",
        "            \n",
        "            # 로지스틱손실함수의 평균값 계산\n",
        "            self.losses.append( loss / len(y)  )\n",
        "                        \n",
        "            pass # epoch loop\n",
        "        \n",
        "        pass # fit\n",
        "    \n",
        "    \n",
        "    # 분류예측함수\n",
        "    def predict(self, x):\n",
        "        # 정방향계산 수행\n",
        "        z = [  self.forpass(xi) for xi in x   ]\n",
        "        \n",
        "        # 간결성과 가독성을 위해서는, 죽~아래코드를 그대로 활용\n",
        "        # if z > 0, sigmoid(z) > 0.5\n",
        "        # if z < 0, sigmoid(z) < 0.5\n",
        "#         return np.array(z) > 0 # 1-D, Vector\n",
        "        \n",
        "        # 활성화함수 통과\n",
        "        # np.array(z) : python list -> ndarray (1-D, Vector) 변환\n",
        "        a = self.activation(np.array(z))  \n",
        "        \n",
        "        # 임계함수로 step function 통과시켜, 최종 분류예측값 산출\n",
        "        return a > .5\n",
        "        pass # predict\n",
        "    \n",
        "    # 모델의 성능(정확도)평가 함수\n",
        "    def score(self, x, y):\n",
        "        return np.mean(self.predict(x) == y)\n",
        "        pass # score\n",
        "            \n",
        "    pass # end class"
      ],
      "execution_count": 0,
      "outputs": []
    },
    {
      "cell_type": "code",
      "metadata": {
        "id": "cNACXChCil5f",
        "colab_type": "code",
        "colab": {}
      },
      "source": [
        "from sklearn.datasets import load_breast_cancer\n",
        "\n",
        "cancer = load_breast_cancer()\n",
        "\n",
        "x = cancer.data\n",
        "y = cancer.target\n",
        "\n",
        "from sklearn.model_selection import train_test_split\n",
        "x_train_all, x_test_all, y_train_all, y_test_all = train_test_split(x, y, stratify = y, test_size=.2)\n",
        "# x_train_all.shape, x_test_all.shape, y_train_all.shape, y_test_all.shape\n",
        "\n",
        "x_train, x_val, y_train, y_val = train_test_split(x_train_all, y_train_all, test_size = .2, stratify = y_train_all)\n",
        "# print( x_train.shape, x_val.shape, y_train.shape, y_val.shape )"
      ],
      "execution_count": 0,
      "outputs": []
    },
    {
      "cell_type": "code",
      "metadata": {
        "id": "4oJEApg8iE4k",
        "colab_type": "code",
        "outputId": "4156a086-f899-4aa7-bda5-032b84c4c6c6",
        "colab": {
          "base_uri": "https://localhost:8080/",
          "height": 36
        }
      },
      "source": [
        "simpleNN = SingleLayer(learning_rate= .1)\n",
        "simpleNN"
      ],
      "execution_count": 0,
      "outputs": [
        {
          "output_type": "execute_result",
          "data": {
            "text/plain": [
              "<__main__.SingleLayer at 0x7ffb1d616550>"
            ]
          },
          "metadata": {
            "tags": []
          },
          "execution_count": 7
        }
      ]
    },
    {
      "cell_type": "code",
      "metadata": {
        "id": "BDXH3USciS1y",
        "colab_type": "code",
        "outputId": "f8b3b4d6-489a-4690-fad7-495df7114c1f",
        "colab": {
          "base_uri": "https://localhost:8080/",
          "height": 36
        }
      },
      "source": [
        "# 1) 훈련 데이터 셋으로 모델 학습 수행\n",
        "simpleNN.fit(x_train, y_train)\n",
        "\n",
        "# 2) 검증 데이터 셋으로 모델 튜닝() -> 모델 성능평가\n",
        "simpleNN.score(x_val, y_val)"
      ],
      "execution_count": 0,
      "outputs": [
        {
          "output_type": "execute_result",
          "data": {
            "text/plain": [
              "0.9560439560439561"
            ]
          },
          "metadata": {
            "tags": []
          },
          "execution_count": 10
        }
      ]
    },
    {
      "cell_type": "code",
      "metadata": {
        "id": "cFI1C564iRam",
        "colab_type": "code",
        "outputId": "db82707e-3707-4adb-fc88-3c44f4d93b64",
        "colab": {
          "base_uri": "https://localhost:8080/",
          "height": 36
        }
      },
      "source": [
        "len(simpleNN.w_history)"
      ],
      "execution_count": 0,
      "outputs": [
        {
          "output_type": "execute_result",
          "data": {
            "text/plain": [
              "36400"
            ]
          },
          "metadata": {
            "tags": []
          },
          "execution_count": 12
        }
      ]
    },
    {
      "cell_type": "code",
      "metadata": {
        "id": "mH58wG4HiMXH",
        "colab_type": "code",
        "outputId": "871753b2-eec9-4478-97c9-33b0259074ad",
        "colab": {
          "base_uri": "https://localhost:8080/",
          "height": 279
        }
      },
      "source": [
        "import matplotlib.pyplot as plt\n",
        "\n",
        "w2 = []\n",
        "w3 = []\n",
        "\n",
        "for w in simpleNN.w_history:\n",
        "    w2.append( w[2] ) # mean perimeter\n",
        "    w3.append( w[3] ) # mean area\n",
        "    pass # loop end\n",
        "\n",
        "plt.plot(w2, w3)\n",
        "plt.xlabel('w2')\n",
        "plt.ylabel('w3')\n",
        "\n",
        "plt.show()\n",
        "\n",
        "# 스케일(변량)이 큰 특성변수에 대하여 표준화를 수행하지 않은 채로\n",
        "# 모델을 학습시키면, 이 특성에 대한 가중치의 수렴 과정은 아래 그림과 같이\n",
        "# 매우 불안정함"
      ],
      "execution_count": 0,
      "outputs": [
        {
          "output_type": "display_data",
          "data": {
            "image/png": "[encoded data removed]",
            "text/plain": [
              "<Figure size 432x288 with 1 Axes>"
            ]
          },
          "metadata": {
            "tags": [],
            "needs_background": "light"
          }
        }
      ]
    },
    {
      "cell_type": "code",
      "metadata": {
        "id": "7NL9gyJzknin",
        "colab_type": "code",
        "outputId": "6a91bf40-98c8-4688-b827-09b9eced3e75",
        "colab": {
          "base_uri": "https://localhost:8080/",
          "height": 36
        }
      },
      "source": [
        "#   전체 입력 데이터 셋을 표준화    - 2nd. method (직접구현)\n",
        "#       scikit-learn package의 StandardScaler 클래스 활용\n",
        "x_train.shape # (364, 30)\n",
        "\n",
        "# 표준화 전처리 수행\n",
        "# 1) 평균산출 -> 2) 표준편차 산출 -> 3) 공식에 따라 표준화 수행\n",
        "\n",
        "x_train_mean = np.mean(x_train, axis = 0) # 평균 (0 = 열방향)\n",
        "x_train_std = np.std(x_train, axis = 0)   # 표준편차\n",
        "\n",
        "x_train_scaled = ( x_train - x_train_mean ) / x_train_std\n",
        "print(x_train_scaled.shape)"
      ],
      "execution_count": 0,
      "outputs": [
        {
          "output_type": "stream",
          "text": [
            "(364, 30)\n"
          ],
          "name": "stdout"
        }
      ]
    },
    {
      "cell_type": "code",
      "metadata": {
        "id": "e3ym157smjUl",
        "colab_type": "code",
        "outputId": "66f32b0d-bae9-4327-fffd-6344d2c76ea8",
        "colab": {
          "base_uri": "https://localhost:8080/",
          "height": 279
        }
      },
      "source": [
        "# 1) 훈련 데이터 셋으로 모델 학습 수행\n",
        "simpleNN = SingleLayer()\n",
        "simpleNN.fit(x_train_scaled, y_train)\n",
        "\n",
        "import matplotlib.pyplot as plt\n",
        "\n",
        "w2 = []\n",
        "w3 = []\n",
        "\n",
        "for w in simpleNN.w_history:\n",
        "    w2.append( w[2] ) # mean perimeter\n",
        "    w3.append( w[3] ) # mean area\n",
        "    pass # loop end\n",
        "\n",
        "plt.plot(w2, w3)\n",
        "plt.xlabel('w2')\n",
        "plt.ylabel('w3')\n",
        "\n",
        "plt.show()"
      ],
      "execution_count": 0,
      "outputs": [
        {
          "output_type": "display_data",
          "data": {
            "image/png": "[encoded data removed]",
            "text/plain": [
              "<Figure size 432x288 with 1 Axes>"
            ]
          },
          "metadata": {
            "tags": [],
            "needs_background": "light"
          }
        }
      ]
    },
    {
      "cell_type": "code",
      "metadata": {
        "id": "0MSHavUCqR5M",
        "colab_type": "code",
        "outputId": "4c6bab02-5637-4d6c-9c67-7fb3560feff6",
        "colab": {
          "base_uri": "https://localhost:8080/",
          "height": 36
        }
      },
      "source": [
        "# 표준화되지 않은 검증데이터셋으로 정확도\n",
        "simpleNN.score(x_val, y_val)\n"
      ],
      "execution_count": 0,
      "outputs": [
        {
          "output_type": "execute_result",
          "data": {
            "text/plain": [
              "0.37362637362637363"
            ]
          },
          "metadata": {
            "tags": []
          },
          "execution_count": 26
        }
      ]
    },
    {
      "cell_type": "code",
      "metadata": {
        "id": "vzep2tFEu2eQ",
        "colab_type": "code",
        "colab": {}
      },
      "source": [
        "# 검증셋의 표준화 전처리\n",
        "x_val_mean = np.mean(x_val, axis  = 0)\n",
        "x_val_std = np.std(x_val, axis  = 0)\n",
        "\n",
        "x_val_scaled = ( x_val - x_val_mean ) / x_val_std"
      ],
      "execution_count": 0,
      "outputs": []
    },
    {
      "cell_type": "code",
      "metadata": {
        "id": "YWXp48fdvXBx",
        "colab_type": "code",
        "outputId": "36c1993c-4f45-4349-be98-70a1d5fc9512",
        "colab": {
          "base_uri": "https://localhost:8080/",
          "height": 36
        }
      },
      "source": [
        "simpleNN.score(x_val_scaled, y_val)"
      ],
      "execution_count": 0,
      "outputs": [
        {
          "output_type": "execute_result",
          "data": {
            "text/plain": [
              "0.9230769230769231"
            ]
          },
          "metadata": {
            "tags": []
          },
          "execution_count": 30
        }
      ]
    },
    {
      "cell_type": "markdown",
      "metadata": {
        "id": "EXfIhkGavt9g",
        "colab_type": "text"
      },
      "source": [
        "### 주의점\n",
        "훈련, 검증, 테스트 데이터셋을 표준화 시킬때, 함정이 있다  "
      ]
    },
    {
      "cell_type": "code",
      "metadata": {
        "id": "C643TuW7vkr2",
        "colab_type": "code",
        "outputId": "dacc6c3d-9252-48b4-db7e-0d684f107130",
        "colab": {
          "base_uri": "https://localhost:8080/",
          "height": 280
        }
      },
      "source": [
        "# 원본 훈련셋과 검증셋으로 산점도 그리기\n",
        "plt.plot( x_train[:50, 0], x_train[:50,1], 'bo' ) # 훈련셋에대한 산점도\n",
        "plt.plot( x_val[:50, 0], x_train[:50,1], 'ro' )\n",
        "plt.xlabel('feature 1')\n",
        "plt.ylabel('feature 2')\n",
        "plt.legend([ 'Train Set', 'Validation Set' ])\n",
        "plt.show()"
      ],
      "execution_count": 0,
      "outputs": [
        {
          "output_type": "display_data",
          "data": {
            "image/png": "[encoded data removed]",
            "text/plain": [
              "<Figure size 432x288 with 1 Axes>"
            ]
          },
          "metadata": {
            "tags": [],
            "needs_background": "light"
          }
        }
      ]
    },
    {
      "cell_type": "code",
      "metadata": {
        "id": "9Y7Y7SFpwJZW",
        "colab_type": "code",
        "outputId": "ee88dbc2-818f-4b7c-81d4-b7bb3afa62e6",
        "colab": {
          "base_uri": "https://localhost:8080/",
          "height": 282
        }
      },
      "source": [
        "# 원본 훈련셋과 검증셋으로 산점도 그리기\n",
        "plt.plot( x_train_scaled[:50, 0], x_train_scaled[:50,1], 'bo' ) # 훈련셋에대한 산점도\n",
        "plt.plot( x_val_scaled[:50, 0], x_val_scaled[:50,1], 'ro' )\n",
        "plt.xlabel('feature 1')\n",
        "plt.ylabel('feature 2')\n",
        "plt.legend([ 'Train Set', 'Validation Set' ])\n",
        "plt.show()"
      ],
      "execution_count": 0,
      "outputs": [
        {
          "output_type": "display_data",
          "data": {
            "image/png": "[encoded data removed]",
            "text/plain": [
              "<Figure size 432x288 with 1 Axes>"
            ]
          },
          "metadata": {
            "tags": [],
            "needs_background": "light"
          }
        }
      ]
    },
    {
      "cell_type": "markdown",
      "metadata": {
        "id": "iEYrurxuxvh7",
        "colab_type": "text"
      },
      "source": [
        "여러셋으로 나누어진 각각의 셋을 표준화 시킬때에는 훈련셋의 통계량을 기준으로 나머지 검증/테스트 셋도 표준화 시켜야함"
      ]
    },
    {
      "cell_type": "code",
      "metadata": {
        "id": "aNVBgHH1x2_I",
        "colab_type": "code",
        "colab": {}
      },
      "source": [
        " "
      ],
      "execution_count": 0,
      "outputs": []
    }
  ]
}