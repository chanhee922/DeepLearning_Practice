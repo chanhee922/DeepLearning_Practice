{
  "nbformat": 4,
  "nbformat_minor": 0,
  "metadata": {
    "colab": {
      "name": "단층신경망 구성.ipynb",
      "provenance": [],
      "collapsed_sections": [],
      "authorship_tag": "ABX9TyPdWN4exJ3V2dWVarq64Wwn",
      "include_colab_link": true
    },
    "kernelspec": {
      "name": "python3",
      "display_name": "Python 3"
    }
  },
  "cells": [
    {
      "cell_type": "markdown",
      "metadata": {
        "id": "view-in-github",
        "colab_type": "text"
      },
      "source": [
        "<a href=\"https://colab.research.google.com/github/chanhee922/DeepLearning_Practice/blob/master/%EB%8B%A8%EC%B8%B5%EC%8B%A0%EA%B2%BD%EB%A7%9D_%EA%B5%AC%EC%84%B1.ipynb\" target=\"_parent\"><img src=\"https://colab.research.google.com/assets/colab-badge.svg\" alt=\"Open In Colab\"/></a>"
      ]
    },
    {
      "cell_type": "markdown",
      "metadata": {
        "id": "m5_HmlX-qURX",
        "colab_type": "text"
      },
      "source": [
        "# 단층신경망 구성"
      ]
    },
    {
      "cell_type": "code",
      "metadata": {
        "id": "ghmartEPqS0O",
        "colab_type": "code",
        "colab": {}
      },
      "source": [
        "import numpy as np\n",
        "import matplotlib.pyplot as plt\n",
        "from pprint import pprint as pp"
      ],
      "execution_count": 0,
      "outputs": []
    },
    {
      "cell_type": "code",
      "metadata": {
        "id": "eUYBPXSDjTKe",
        "colab_type": "code",
        "colab": {}
      },
      "source": [
        "class SingleLayer:\n",
        "    \n",
        "    def __init__(self):\n",
        "        self.w = None\n",
        "        self.b = None\n",
        "        self.losses = []\n",
        "\n",
        "    def forpass(self, x):\n",
        "        z = np.sum(x * self.w) + self.b  # 직선 방정식을 계산합니다\n",
        "        return z\n",
        "\n",
        "    def backprop(self, x, err):\n",
        "        w_grad = x * err    # 가중치에 대한 그래디언트를 계산합니다\n",
        "        b_grad = 1 * err    # 절편에 대한 그래디언트를 계산합니다\n",
        "        return w_grad, b_grad\n",
        "\n",
        "    def activation(self, z):\n",
        "        z = np.clip(z, -100, None) # 안전한 np.exp() 계산을 위해\n",
        "        a = 1 / (1 + np.exp(-z))  # 시그모이드 계산\n",
        "        return a\n",
        "        \n",
        "    def fit(self, x, y, epochs=100):\n",
        "        self.w = np.ones(x.shape[1])               # 가중치를 초기화합니다.\n",
        "        self.b = 0                                 # 절편을 초기화합니다.\n",
        "        for i in range(epochs):                    # epochs만큼 반복합니다\n",
        "            loss = 0\n",
        "            # 인덱스를 섞습니다\n",
        "            indexes = np.random.permutation(np.arange(len(x)))\n",
        "            for i in indexes:                      # 모든 샘플에 대해 반복합니다\n",
        "                z = self.forpass(x[i])             # 정방향 계산\n",
        "                a = self.activation(z)             # 활성화 함수 적용\n",
        "                err = -(y[i] - a)                  # 오차 계산\n",
        "                w_grad, b_grad = self.backprop(x[i], err) # 역방향 계산\n",
        "                self.w -= w_grad                   # 가중치 업데이트\n",
        "                self.b -= b_grad                   # 절편 업데이트\n",
        "                # 안전한 로그 계산을 위해 클리핑한 후 손실을 누적합니다\n",
        "                a = np.clip(a, 1e-10, 1-1e-10)\n",
        "                loss += -(y[i]*np.log(a)+(1-y[i])*np.log(1-a))\n",
        "            # 에포크마다 평균 손실을 저장합니다\n",
        "            self.losses.append(loss/len(y))\n",
        "    \n",
        "    def predict(self, x):\n",
        "        z = [self.forpass(x_i) for x_i in x]     # 정방향 계산\n",
        "        return np.array(z) > 0                   # 스텝 함수 적용\n",
        "    \n",
        "    def score(self, x, y):\n",
        "        return np.mean(self.predict(x) == y)"
      ],
      "execution_count": 0,
      "outputs": []
    },
    {
      "cell_type": "code",
      "metadata": {
        "id": "J9cIOqPrpsjM",
        "colab_type": "code",
        "colab": {}
      },
      "source": [
        "class LogisticNeuron:\n",
        "    \n",
        "    def __init__(self):\n",
        "        self.w = None\n",
        "        self.b = None\n",
        "\n",
        "        self.losses = [] # 손실함수의 오차값을 매 훈련시 마다 저장\n",
        "\n",
        "        pass # constructor\n",
        "\n",
        "\n",
        "    def forpass(self, x): # 정방향 계산\n",
        "        # z = w1x1 + w2x2 + ... wixi + b\n",
        "        z = np.sum(x * self.w) + self.b\n",
        "        return z\n",
        "\n",
        "        pass # forpass\n",
        "\n",
        "    # 역방향 계산(오차역전파와 손실함수의 미분을 통한 가중치와 절편의 변화율 계산)\n",
        "    def backprop(self, x, err): \n",
        "        w_grad = x * err        # 가중치(w)에 대한 변화율(gradient) 계산\n",
        "        b_grad = 1 * err        # 절편(b)에 대한 변화율(gradient) 계산\n",
        "\n",
        "        return w_grad, b_grad\n",
        "        pass # backprop\n",
        "    \n",
        "\n",
        "    def activation(self, z):    # 활성화 함수(시그모이드)를 통과하여 반환\n",
        "        # *** 안전한 지수(또는 로그) 계산을 위해 지정된 범위값을 가지도록 만듦\n",
        "        z = np.clip(z, -100, None)\n",
        "        a = 1 / (1 + np.exp(-z))\n",
        "\n",
        "        return  a\n",
        "        pass # activation\n",
        "\n",
        "\n",
        "    # 신경망 훈련을 통한 최적의 가중치(w)와 절편(b)를 찾아가도록 훈련\n",
        "    # (학습 = 손실함수에대한 미분)\n",
        "    def fit(self, x, y, epochs = 100):\n",
        "        \n",
        "        # 1) 가중치와 절편의 초기값 설정\n",
        "        self.w = np.ones(x.shape[1])    # x.shape[1] = 열(특성, 노드)의 개수\n",
        "        self.b = 0\n",
        "\n",
        "        # 2) epoch\n",
        "        for i in range(epochs):\n",
        "            loss = 0\n",
        "            # 3) 전체 샘플을 활용한 학습(가중치/절편의 업데이트) 수행\n",
        "            # 신경망을 훈련시킬 훈련 데이터 셋은 매 에포크마다 섞어야함\n",
        "            # 전체 sample을 무작위로 섞는 함수: np.random.permutation()\n",
        "\n",
        "            indexes = np.arange( len(x) )               # 전체 샘플의 인덱스 번호를 1차원 벡터로 생성\n",
        "            indexes = np.random.permutation( indexes )  # 셔플링 후 다시 저장\n",
        "\n",
        "            # 매 epoch 마다 평균 손실값의 오차를 계산\n",
        "            self.losses = 0\n",
        "\n",
        "            for i in indexes:\n",
        "            # for xi, yi in zip(x, y):\n",
        "                xi = x[i]       # i 번째 샘플의 입력 데이터\n",
        "                yi = y[i]       # i 번째 샘플의 정답 데이터\n",
        "\n",
        "\n",
        "\n",
        "                # 4) 정방향 계산 수행\n",
        "                z = self.forpass(xi)\n",
        "                \n",
        "                # 5) 활성화 함수 통과\n",
        "                a = self.activation(z)\n",
        "                \n",
        "                # 6) 오차계산\n",
        "                err = -(yi - a)\n",
        "                pass # training loop(1 epoch)\n",
        "\n",
        "                # 7) 오차역전파를 통한 가중치와 절편의 변화율 계산\n",
        "                w_grad, b_grad = self.backprop(xi, err)\n",
        "\n",
        "                # 8) 계산된 가중치와 절편의 변화율을 이용한 가중치/절편 업데이트\n",
        "                self.w -= w_grad\n",
        "                self.b -= b_grad\n",
        "\n",
        "                # 9) 로지스틱 손실함수의 계산 수행\n",
        "                    # 안전한 로그 계산을 위한 클리핑 수행\n",
        "                # a = np.clip(a, 1e-10, 1 - 1e-10) - 1st method\n",
        "                a = np.clip(a, -100, None)\n",
        "                loss += -(y[i]*np.log(a)+(1-y[i])*np.log(1-a))\n",
        "\n",
        "            pass # epoch loop (1 epoch)\n",
        "        \n",
        "        # 로지스틱 손실 함수의 평균값 계산\n",
        "        self.losses.append(loss/len(y))\n",
        "\n",
        "        pass # fit\n",
        "\n",
        "\n",
        "    # 분류예측함수\n",
        "    def predict(self, x):\n",
        "        # 정방향 계산 수행\n",
        "        z = [ self.forpass(xi)  for xi in x  ]\n",
        "\n",
        "        # 활성화 함수 통과\n",
        "        a = self.activation(np.array(z)) # 리스트(내포)로 나온 결과를 벡터로 변환\n",
        "        \n",
        "        # 임계함수로 step function을 통과시켜 최종 분류예측값 산출\n",
        "        return a > .5\n",
        "\n",
        "        pass # predict"
      ],
      "execution_count": 0,
      "outputs": []
    },
    {
      "cell_type": "code",
      "metadata": {
        "id": "I-kcLlGczqD9",
        "colab_type": "code",
        "outputId": "37cbbeaa-8642-49b2-8411-02f72284cd7b",
        "colab": {
          "base_uri": "https://localhost:8080/",
          "height": 34
        }
      },
      "source": [
        "logisticNN = LogisticNeuron()\n",
        "logisticNN"
      ],
      "execution_count": 0,
      "outputs": [
        {
          "output_type": "execute_result",
          "data": {
            "text/plain": [
              "<__main__.LogisticNeuron at 0x7f7e7dc93550>"
            ]
          },
          "metadata": {
            "tags": []
          },
          "execution_count": 46
        }
      ]
    },
    {
      "cell_type": "code",
      "metadata": {
        "id": "7hbqputLz4gi",
        "colab_type": "code",
        "colab": {}
      },
      "source": [
        "from sklearn.datasets import load_breast_cancer\n",
        "cancer = load_breast_cancer()"
      ],
      "execution_count": 0,
      "outputs": []
    },
    {
      "cell_type": "code",
      "metadata": {
        "id": "_f8fahcaFCKi",
        "colab_type": "code",
        "outputId": "acd40626-ca0c-4175-db94-3790c1ccd95b",
        "colab": {
          "base_uri": "https://localhost:8080/",
          "height": 34
        }
      },
      "source": [
        "x = cancer.data\n",
        "y = cancer.target\n",
        "x.shape, y.shape"
      ],
      "execution_count": 0,
      "outputs": [
        {
          "output_type": "execute_result",
          "data": {
            "text/plain": [
              "((569, 30), (569,))"
            ]
          },
          "metadata": {
            "tags": []
          },
          "execution_count": 22
        }
      ]
    },
    {
      "cell_type": "markdown",
      "metadata": {
        "id": "FgJCry-XFud4",
        "colab_type": "text"
      },
      "source": [
        "y (정답) : 1-D vector  \n",
        "x (입력) : 2-D matrix"
      ]
    },
    {
      "cell_type": "code",
      "metadata": {
        "id": "F8MPRvQQzlYb",
        "colab_type": "code",
        "outputId": "74478ca6-f4ec-4817-fab9-f14b444520f3",
        "colab": {
          "base_uri": "https://localhost:8080/",
          "height": 105
        }
      },
      "source": [
        "x[0][:] # 첫 번째 샘플"
      ],
      "execution_count": 0,
      "outputs": [
        {
          "output_type": "execute_result",
          "data": {
            "text/plain": [
              "array([1.799e+01, 1.038e+01, 1.228e+02, 1.001e+03, 1.184e-01, 2.776e-01,\n",
              "       3.001e-01, 1.471e-01, 2.419e-01, 7.871e-02, 1.095e+00, 9.053e-01,\n",
              "       8.589e+00, 1.534e+02, 6.399e-03, 4.904e-02, 5.373e-02, 1.587e-02,\n",
              "       3.003e-02, 6.193e-03, 2.538e+01, 1.733e+01, 1.846e+02, 2.019e+03,\n",
              "       1.622e-01, 6.656e-01, 7.119e-01, 2.654e-01, 4.601e-01, 1.189e-01])"
            ]
          },
          "metadata": {
            "tags": []
          },
          "execution_count": 6
        }
      ]
    },
    {
      "cell_type": "code",
      "metadata": {
        "id": "fZpYLgthymwO",
        "colab_type": "code",
        "outputId": "402e0389-b12e-4bb1-aa5c-ed838eae1c9f",
        "colab": {
          "base_uri": "https://localhost:8080/",
          "height": 52
        }
      },
      "source": [
        "pp(np.unique(y, return_counts= 1))\n",
        "m = len(y)\n",
        "\n",
        "212/m, 357/m"
      ],
      "execution_count": 0,
      "outputs": [
        {
          "output_type": "stream",
          "text": [
            "(array([0, 1]), array([212, 357]))\n"
          ],
          "name": "stdout"
        },
        {
          "output_type": "execute_result",
          "data": {
            "text/plain": [
              "(0.37258347978910367, 0.6274165202108963)"
            ]
          },
          "metadata": {
            "tags": []
          },
          "execution_count": 7
        }
      ]
    },
    {
      "cell_type": "markdown",
      "metadata": {
        "id": "TCQjwsLmf38Z",
        "colab_type": "text"
      },
      "source": [
        "훈련셋과 테스트 셋으로 분할"
      ]
    },
    {
      "cell_type": "code",
      "metadata": {
        "id": "k1it2g5jHTjK",
        "colab_type": "code",
        "colab": {}
      },
      "source": [
        "from sklearn.model_selection import train_test_split"
      ],
      "execution_count": 0,
      "outputs": []
    },
    {
      "cell_type": "code",
      "metadata": {
        "id": "f6tEWXKsHaEY",
        "colab_type": "code",
        "outputId": "392abe76-1913-46ad-ff61-e4595a710297",
        "colab": {
          "base_uri": "https://localhost:8080/",
          "height": 52
        }
      },
      "source": [
        "# x (입력)\n",
        "# y (정답)\n",
        "x_train, x_test, y_train, y_test = train_test_split(x, y, test_size = .2, stratify = y)\n",
        "print(x_train.shape, x_test.shape)\n",
        "print(y_train.shape, y_test.shape, np.unique(y_test, return_counts=1))\n"
      ],
      "execution_count": 0,
      "outputs": [
        {
          "output_type": "stream",
          "text": [
            "(455, 30) (114, 30)\n",
            "(455,) (114,) (array([0, 1]), array([42, 72]))\n"
          ],
          "name": "stdout"
        }
      ]
    },
    {
      "cell_type": "code",
      "metadata": {
        "id": "-pmyGiyfIw5R",
        "colab_type": "code",
        "outputId": "9e39087a-aa87-49a1-9dda-f1df32d7e239",
        "colab": {
          "base_uri": "https://localhost:8080/",
          "height": 327
        }
      },
      "source": [
        "logisticNN.fit(x_train, y_train, epochs = 100)"
      ],
      "execution_count": 0,
      "outputs": [
        {
          "output_type": "stream",
          "text": [
            "/usr/local/lib/python3.6/dist-packages/ipykernel_launcher.py:86: RuntimeWarning: divide by zero encountered in log\n",
            "/usr/local/lib/python3.6/dist-packages/ipykernel_launcher.py:86: RuntimeWarning: invalid value encountered in multiply\n"
          ],
          "name": "stderr"
        },
        {
          "output_type": "error",
          "ename": "AttributeError",
          "evalue": "ignored",
          "traceback": [
            "\u001b[0;31m---------------------------------------------------------------------------\u001b[0m",
            "\u001b[0;31mAttributeError\u001b[0m                            Traceback (most recent call last)",
            "\u001b[0;32m<ipython-input-47-9fdc8448d158>\u001b[0m in \u001b[0;36m<module>\u001b[0;34m()\u001b[0m\n\u001b[0;32m----> 1\u001b[0;31m \u001b[0mlogisticNN\u001b[0m\u001b[0;34m.\u001b[0m\u001b[0mfit\u001b[0m\u001b[0;34m(\u001b[0m\u001b[0mx_train\u001b[0m\u001b[0;34m,\u001b[0m \u001b[0my_train\u001b[0m\u001b[0;34m,\u001b[0m \u001b[0mepochs\u001b[0m \u001b[0;34m=\u001b[0m \u001b[0;36m100\u001b[0m\u001b[0;34m)\u001b[0m\u001b[0;34m\u001b[0m\u001b[0;34m\u001b[0m\u001b[0m\n\u001b[0m",
            "\u001b[0;32m<ipython-input-45-7876c13c9717>\u001b[0m in \u001b[0;36mfit\u001b[0;34m(self, x, y, epochs)\u001b[0m\n\u001b[1;32m     89\u001b[0m \u001b[0;34m\u001b[0m\u001b[0m\n\u001b[1;32m     90\u001b[0m         \u001b[0;31m# 로지스틱 손실 함수의 평균값 계산\u001b[0m\u001b[0;34m\u001b[0m\u001b[0;34m\u001b[0m\u001b[0;34m\u001b[0m\u001b[0m\n\u001b[0;32m---> 91\u001b[0;31m         \u001b[0mself\u001b[0m\u001b[0;34m.\u001b[0m\u001b[0mlosses\u001b[0m\u001b[0;34m.\u001b[0m\u001b[0mappend\u001b[0m\u001b[0;34m(\u001b[0m\u001b[0mloss\u001b[0m\u001b[0;34m/\u001b[0m\u001b[0mlen\u001b[0m\u001b[0;34m(\u001b[0m\u001b[0my\u001b[0m\u001b[0;34m)\u001b[0m\u001b[0;34m)\u001b[0m\u001b[0;34m\u001b[0m\u001b[0;34m\u001b[0m\u001b[0m\n\u001b[0m\u001b[1;32m     92\u001b[0m \u001b[0;34m\u001b[0m\u001b[0m\n\u001b[1;32m     93\u001b[0m         \u001b[0;32mpass\u001b[0m \u001b[0;31m# fit\u001b[0m\u001b[0;34m\u001b[0m\u001b[0;34m\u001b[0m\u001b[0m\n",
            "\u001b[0;31mAttributeError\u001b[0m: 'int' object has no attribute 'append'"
          ]
        }
      ]
    },
    {
      "cell_type": "code",
      "metadata": {
        "id": "tvEGqRbKJvE7",
        "colab_type": "code",
        "outputId": "e1644c2e-2d0c-46ab-e06d-120520535bda",
        "colab": {
          "base_uri": "https://localhost:8080/",
          "height": 158
        }
      },
      "source": [
        " logisticNN.w"
      ],
      "execution_count": 0,
      "outputs": [
        {
          "output_type": "execute_result",
          "data": {
            "text/plain": [
              "array([ 8.68414600e+03, -5.92038000e+03,  3.45061600e+04,  3.66430000e+03,\n",
              "       -3.35998000e+00, -4.73725500e+02, -7.50599717e+02, -2.79229379e+02,\n",
              "       -4.25850000e+01,  1.28916100e+01,  1.72371500e+02, -2.63168500e+02,\n",
              "       -2.94283780e+03, -9.18605900e+03, -7.32226600e+00, -1.27164872e+02,\n",
              "       -1.87243594e+02, -4.27042630e+01, -2.79588160e+01, -1.01497117e+01,\n",
              "        8.81189500e+03, -9.17409000e+03,  1.24203700e+04, -6.87440000e+03,\n",
              "       -5.84886900e+01, -1.56299474e+03, -2.07543593e+03, -5.35339961e+02,\n",
              "       -2.40399500e+02, -9.76573000e+01])"
            ]
          },
          "metadata": {
            "tags": []
          },
          "execution_count": 11
        }
      ]
    },
    {
      "cell_type": "code",
      "metadata": {
        "id": "svj83qQJKC-g",
        "colab_type": "code",
        "outputId": "17bf206c-a2c6-4852-c118-4ab7aa23b8a7",
        "colab": {
          "base_uri": "https://localhost:8080/",
          "height": 34
        }
      },
      "source": [
        "logisticNN.b"
      ],
      "execution_count": 0,
      "outputs": [
        {
          "output_type": "execute_result",
          "data": {
            "text/plain": [
              "1156.0000000000011"
            ]
          },
          "metadata": {
            "tags": []
          },
          "execution_count": 12
        }
      ]
    },
    {
      "cell_type": "code",
      "metadata": {
        "id": "PBQHxgm-IuMQ",
        "colab_type": "code",
        "outputId": "19b88a58-c5db-48a2-b93b-b925fad6f73c",
        "colab": {
          "base_uri": "https://localhost:8080/",
          "height": 246
        }
      },
      "source": [
        "logisticNN.predict(x_test)"
      ],
      "execution_count": 0,
      "outputs": [
        {
          "output_type": "execute_result",
          "data": {
            "text/plain": [
              "array([ True,  True,  True,  True,  True,  True,  True, False,  True,\n",
              "       False,  True, False,  True,  True,  True,  True, False, False,\n",
              "        True,  True, False,  True, False,  True,  True,  True,  True,\n",
              "        True, False,  True, False,  True,  True, False, False, False,\n",
              "        True,  True,  True,  True,  True,  True,  True,  True,  True,\n",
              "        True,  True,  True,  True,  True, False, False,  True,  True,\n",
              "        True,  True,  True,  True,  True,  True,  True,  True, False,\n",
              "       False,  True,  True,  True,  True,  True,  True,  True,  True,\n",
              "        True, False,  True,  True,  True, False,  True, False,  True,\n",
              "        True,  True,  True,  True, False,  True,  True,  True,  True,\n",
              "        True,  True,  True,  True,  True,  True,  True, False, False,\n",
              "        True,  True,  True,  True,  True, False,  True,  True,  True,\n",
              "        True,  True, False,  True,  True,  True])"
            ]
          },
          "metadata": {
            "tags": []
          },
          "execution_count": 13
        }
      ]
    },
    {
      "cell_type": "code",
      "metadata": {
        "id": "Bh8qYkQlIjBh",
        "colab_type": "code",
        "outputId": "e8bf7e17-8473-4dc6-f68c-4ad5ce748783",
        "colab": {
          "base_uri": "https://localhost:8080/",
          "height": 34
        }
      },
      "source": [
        "np.mean(  logisticNN.predict(x_test) == y_test  )"
      ],
      "execution_count": 0,
      "outputs": [
        {
          "output_type": "execute_result",
          "data": {
            "text/plain": [
              "0.8421052631578947"
            ]
          },
          "metadata": {
            "tags": []
          },
          "execution_count": 14
        }
      ]
    },
    {
      "cell_type": "code",
      "metadata": {
        "id": "UmZzHo_vLhcS",
        "colab_type": "code",
        "colab": {}
      },
      "source": [
        ""
      ],
      "execution_count": 0,
      "outputs": []
    }
  ]
}