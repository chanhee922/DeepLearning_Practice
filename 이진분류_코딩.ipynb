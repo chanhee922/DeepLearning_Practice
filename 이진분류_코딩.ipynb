{
  "nbformat": 4,
  "nbformat_minor": 0,
  "metadata": {
    "colab": {
      "name": "이진분류 코딩.ipynb",
      "provenance": [],
      "collapsed_sections": [],
      "authorship_tag": "ABX9TyPoiP9XqGawIwWISRCsxr90",
      "include_colab_link": true
    },
    "kernelspec": {
      "name": "python3",
      "display_name": "Python 3"
    }
  },
  "cells": [
    {
      "cell_type": "markdown",
      "metadata": {
        "id": "view-in-github",
        "colab_type": "text"
      },
      "source": [
        "<a href=\"https://colab.research.google.com/github/chanhee922/DeepLearning_Practice/blob/master/%EC%9D%B4%EC%A7%84%EB%B6%84%EB%A5%98_%EC%BD%94%EB%94%A9.ipynb\" target=\"_parent\"><img src=\"https://colab.research.google.com/assets/colab-badge.svg\" alt=\"Open In Colab\"/></a>"
      ]
    },
    {
      "cell_type": "markdown",
      "metadata": {
        "id": "KlYfwgy9mVsR",
        "colab_type": "text"
      },
      "source": [
        "# 이진 분류"
      ]
    },
    {
      "cell_type": "code",
      "metadata": {
        "id": "KRnBFgTXlx37",
        "colab_type": "code",
        "colab": {}
      },
      "source": [
        "class SingleLayer:\n",
        "    \n",
        "    def __init__(self):\n",
        "        self.w = None\n",
        "        self.b = None\n",
        "        \n",
        "        # 손실함수의 평균오차값을 매 훈련시마다(epoch) 저장\n",
        "        self.losses = []  \n",
        "        \n",
        "        pass # constructor\n",
        "    \n",
        "    \n",
        "    # 정방향계산(=뉴런의 선형함수 계산)\n",
        "    def forpass(self, x):\n",
        "        # z = w1x1 + w2x2 + ..... wnxn + b\n",
        "        z = np.sum(x * self.w) + self.b\n",
        "        return z\n",
        "        \n",
        "        pass # forpass\n",
        "    \n",
        "    \n",
        "    # 역방향계산(오차역전파와 손실함수의 미분을 통한 가중치와 절편의 변화율 계산)\n",
        "    def backprop(self, x, err):\n",
        "        w_grad = x * err    # 가중치(w)에 대한 변화율(=gradient) 계산\n",
        "        b_grad = 1 * err    # 절편(b)에 대한 변화율(=gradient) 계산\n",
        "        \n",
        "        return w_grad, b_grad\n",
        "        pass # backprop\n",
        "    \n",
        "    \n",
        "    # 활성화함수(시그모이드) 통과하여 반환\n",
        "    def activation(self, z):\n",
        "        # **** 안전한 지수(또는 로그) 계산을 위해, 지정됨 범위 값을 가지도록 함\n",
        "#       z = np.clip(z, 1e-10, 1 - 1e-10)   # 1st. method\n",
        "        z = np.clip(z, -100, None)         # 2nd. method\n",
        "    \n",
        "        a = 1 / (1 + np.exp(-z))\n",
        "        return a\n",
        "        pass # activation\n",
        "    \n",
        "    \n",
        "    # 신경망 훈련을 통한 최적의 가중치(w)와 절편(b)을\n",
        "    # 찾아가도록 훈련\n",
        "    def fit(self, x, y, epochs=100):        \n",
        "        # (1). 가중치와 절편의 초기값 설정\n",
        "        self.w = np.ones(x.shape[1])  # 1-D, vector with all elements is 1\n",
        "        self.b = 0\n",
        "        \n",
        "        # (2)  epoch 돌립니다.\n",
        "        for i in range(epochs):\n",
        "            \n",
        "            # (3) 전체샘플을 활용한 학습(가중치와 절편을 업데이트) 수행\n",
        "            #\n",
        "            # 신경망을 훈련시킬 훈련 데이터 셋은, 있는 그대로 밀어넣는게 아니라,\n",
        "            # 매 에포크(epoch) 마다, shuffling해서, 밀어 넣어야 함!!!\n",
        "            # 전체 sample 을 무작위로 섞는 shuffling 함수 ==> np.random.permutation()함수\n",
        "            \n",
        "            indexes = np.arange( len(x) )  # 전체 샘플의 index 번호를 1-D, Vector로 생성\n",
        "            indexes = np.random.permutation( indexes  ) # shuffling 후 다시 저장\n",
        "            \n",
        "            # 매 epoch 마다 평균 손실함수의 오차값 산출하여, 리스트에 저장\n",
        "            loss = 0\n",
        "            \n",
        "            for i in indexes:\n",
        "#             for xi, yi in zip(x, y):\n",
        "                xi = x[i]   # 매번 샘플의 입력데이타\n",
        "                yi = y[i]   # 맨번 샘플의 정답데이타\n",
        "        \n",
        "                # (4) 정방향계산 수행\n",
        "                z = self.forpass(xi)\n",
        "                \n",
        "                # (5) 활성화함수 통과\n",
        "                a = self.activation(z)\n",
        "                \n",
        "                # (6) 오차계산\n",
        "                err = -(yi - a)\n",
        "                \n",
        "                # (7) 오차역전파를 통한, 가중치와 절편의 변화율 계산\n",
        "                w_grad, b_grad = self.backprop(xi, err)\n",
        "                \n",
        "                # (8) 계산된 가중치와 절편의 변화율을 이용한 , 가중치/절편의 업데이트\n",
        "                self.w -= w_grad\n",
        "                self.b -= b_grad\n",
        "                \n",
        "                # (9) 로지스틱 손실함수의 계산 수행\n",
        "                # 안전한 로그계산을 위한 클리핑 수행\n",
        "                a = np.clip(a, 1e-10, 1 - 1e-10) # 1st.method\n",
        "#                 a = np.clip(a, -100, None)       # 2st.method\n",
        "\n",
        "                L = -( yi * np.log(a) + (1 - yi) * np.log(1-a)   )\n",
        "                loss += L\n",
        "                \n",
        "                pass # traninig loop (1 epoch)\n",
        "            \n",
        "            # 로지스틱손실함수의 평균값 계산\n",
        "            self.losses.append( loss / len(y)  )\n",
        "                        \n",
        "            pass # epoch loop\n",
        "        \n",
        "        pass # fit\n",
        "    \n",
        "    \n",
        "    # 분류예측함수\n",
        "    def predict(self, x):\n",
        "        # 정방향계산 수행\n",
        "        z = [  self.forpass(xi) for xi in x   ]\n",
        "        \n",
        "        # 간결성과 가독성을 위해서는, 죽~아래코드를 그대로 활용\n",
        "        # if z > 0, sigmoid(z) > 0.5\n",
        "        # if z < 0, sigmoid(z) < 0.5\n",
        "#         return np.array(z) > 0 # 1-D, Vector\n",
        "        \n",
        "        # 활성화함수 통과\n",
        "        # np.array(z) : python list -> ndarray (1-D, Vector) 변환\n",
        "        a = self.activation(np.array(z))  \n",
        "        \n",
        "        # 임계함수로 step function 통과시켜, 최종 분류예측값 산출\n",
        "        return a > .5\n",
        "        pass # predict\n",
        "    \n",
        "    # 모델의 성능(정확도)평가 함수\n",
        "    def score(self, x, y):\n",
        "        return np.mean(self.predict(x) == y)\n",
        "        pass # score\n",
        "            \n",
        "    pass # end class"
      ],
      "execution_count": 0,
      "outputs": []
    },
    {
      "cell_type": "code",
      "metadata": {
        "id": "lHMh3hXhmanC",
        "colab_type": "code",
        "outputId": "e2360900-8bcf-4d3d-f233-24069efa526a",
        "colab": {
          "base_uri": "https://localhost:8080/",
          "height": 34
        }
      },
      "source": [
        "simpleNN = SingleLayer()\n",
        "simpleNN"
      ],
      "execution_count": 0,
      "outputs": [
        {
          "output_type": "execute_result",
          "data": {
            "text/plain": [
              "<__main__.SingleLayer at 0x7f2f58a40320>"
            ]
          },
          "metadata": {
            "tags": []
          },
          "execution_count": 2
        }
      ]
    },
    {
      "cell_type": "code",
      "metadata": {
        "id": "UiFGh4JQmcNb",
        "colab_type": "code",
        "outputId": "4c7ab9f8-2672-4569-f91b-bb88e1d86abf",
        "colab": {
          "base_uri": "https://localhost:8080/",
          "height": 34
        }
      },
      "source": [
        "# 훈련데이터 준비\n",
        "from sklearn.datasets import load_breast_cancer\n",
        "\n",
        "cancer = load_breast_cancer()\n",
        "\n",
        "x = cancer.data\n",
        "y = cancer.target\n",
        "\n",
        "x.shape, y.shape"
      ],
      "execution_count": 0,
      "outputs": [
        {
          "output_type": "execute_result",
          "data": {
            "text/plain": [
              "((569, 30), (569,))"
            ]
          },
          "metadata": {
            "tags": []
          },
          "execution_count": 3
        }
      ]
    },
    {
      "cell_type": "code",
      "metadata": {
        "id": "c0hlmoO1mdRZ",
        "colab_type": "code",
        "outputId": "7d3ac9c0-a673-43e8-fa1a-0429f30960fd",
        "colab": {
          "base_uri": "https://localhost:8080/",
          "height": 34
        }
      },
      "source": [
        "# 훈련셋과 테스트 셋으로 분할(split)\n",
        "from sklearn.model_selection import train_test_split\n",
        "\n",
        "x_train, x_test, y_train, y_test = \\\n",
        "    train_test_split(x, y, stratify = y, test_size=.2)\n",
        "\n",
        "x_train.shape, x_test.shape, y_train.shape, y_test.shape    "
      ],
      "execution_count": 0,
      "outputs": [
        {
          "output_type": "execute_result",
          "data": {
            "text/plain": [
              "((455, 30), (114, 30), (455,), (114,))"
            ]
          },
          "metadata": {
            "tags": []
          },
          "execution_count": 4
        }
      ]
    },
    {
      "cell_type": "code",
      "metadata": {
        "id": "Q9ibbCBxmeQi",
        "colab_type": "code",
        "outputId": "f5672b17-a995-4512-9436-b17593dc7561",
        "colab": {
          "base_uri": "https://localhost:8080/",
          "height": 34
        }
      },
      "source": [
        "# 단층신경망 학습 수행\n",
        "import numpy as np\n",
        "\n",
        "# 분할한 훈련데이터셋으로 모델 training\n",
        "simpleNN.fit(x_train, y_train) \n",
        "\n",
        "# 분할한 테스트 데이터셋으로 모델의 성능평가\n",
        "simpleNN.score(x_test, y_test)"
      ],
      "execution_count": 0,
      "outputs": [
        {
          "output_type": "execute_result",
          "data": {
            "text/plain": [
              "0.9035087719298246"
            ]
          },
          "metadata": {
            "tags": []
          },
          "execution_count": 5
        }
      ]
    },
    {
      "cell_type": "code",
      "metadata": {
        "id": "F1ne_m6jmfNL",
        "colab_type": "code",
        "outputId": "00d1a188-e4c6-4d64-9bb1-894c15055239",
        "colab": {
          "base_uri": "https://localhost:8080/",
          "height": 34
        }
      },
      "source": [
        "len( simpleNN.losses )"
      ],
      "execution_count": 0,
      "outputs": [
        {
          "output_type": "execute_result",
          "data": {
            "text/plain": [
              "100"
            ]
          },
          "metadata": {
            "tags": []
          },
          "execution_count": 6
        }
      ]
    },
    {
      "cell_type": "code",
      "metadata": {
        "id": "y8CiEvTnmgh6",
        "colab_type": "code",
        "outputId": "a48a6cc1-b679-4236-b06f-95821d4c68e9",
        "colab": {
          "base_uri": "https://localhost:8080/",
          "height": 279
        }
      },
      "source": [
        "import matplotlib.pyplot as plt\n",
        "\n",
        "plt.plot(simpleNN.losses)\n",
        "plt.xlabel('L')\n",
        "plt.ylabel('value(loss)')\n",
        "plt.show()"
      ],
      "execution_count": 0,
      "outputs": [
        {
          "output_type": "display_data",
          "data": {
            "image/png": "[encoded data removed]",
            "text/plain": [
              "<Figure size 432x288 with 1 Axes>"
            ]
          },
          "metadata": {
            "tags": [],
            "needs_background": "light"
          }
        }
      ]
    },
    {
      "cell_type": "code",
      "metadata": {
        "id": "JpymboJnmh5b",
        "colab_type": "code",
        "colab": {}
      },
      "source": [
        ""
      ],
      "execution_count": 0,
      "outputs": []
    }
  ]
}