{
  "nbformat": 4,
  "nbformat_minor": 0,
  "metadata": {
    "colab": {
      "name": "데이터셋 분할 이론 정리 및 적용해 보기.ipynb",
      "provenance": [],
      "collapsed_sections": [],
      "authorship_tag": "ABX9TyNt3zutjh9LaX/vaMIt3Hl9",
      "include_colab_link": true
    },
    "kernelspec": {
      "name": "python3",
      "display_name": "Python 3"
    }
  },
  "cells": [
    {
      "cell_type": "markdown",
      "metadata": {
        "id": "view-in-github",
        "colab_type": "text"
      },
      "source": [
        "<a href=\"https://colab.research.google.com/github/chanhee922/DeepLearning_Practice/blob/master/%EB%8D%B0%EC%9D%B4%ED%84%B0%EC%85%8B_%EB%B6%84%ED%95%A0_%EC%9D%B4%EB%A1%A0_%EC%A0%95%EB%A6%AC_%EB%B0%8F_%EC%A0%81%EC%9A%A9%ED%95%B4_%EB%B3%B4%EA%B8%B0.ipynb\" target=\"_parent\"><img src=\"https://colab.research.google.com/assets/colab-badge.svg\" alt=\"Open In Colab\"/></a>"
      ]
    },
    {
      "cell_type": "markdown",
      "metadata": {
        "id": "9u0j1d5mv2Aa",
        "colab_type": "text"
      },
      "source": [
        "# 신경망에 대한 훈련데이터셋의 실전 적용\n",
        "## - 머신러닝과 딥러닝에서 반드시 알아야 될 부분"
      ]
    },
    {
      "cell_type": "markdown",
      "metadata": {
        "id": "FFO7aZIDv_sk",
        "colab_type": "text"
      },
      "source": [
        "1. 전체 데이터셋의 분할  \n",
        "    - 실전에서 수집 데이터셋의 활용 원칙  \n",
        "            가. 전체 데이터셋을 3개로 분할 (훈련, 검증, 테스트)\n",
        "            나. 훈련 데이터 셋 -> 모델의 학습(가중치/절편 업데이트)\n",
        "            다. 검증 데이터 셋 -> 모델의 튜닝(하이퍼파라미터 조절)\n",
        "            라. 테스트 데이터 셋 -> 모델의 성능 평가( = 정확도)\n",
        "                --> 튜닝된 모델의 실전 투입 전 딱 한번 사용\n",
        "            마. 만일 수집된 전체 데이터 셋이 작을 경우 `교차검증(cross-validation)`을 수행\n",
        "            바. 실제 데이터 분할은 64:16:20(훈련:검증:테스트)로 함\n",
        "            "
      ]
    },
    {
      "cell_type": "markdown",
      "metadata": {
        "id": "NATDsYQn2Q7q",
        "colab_type": "text"
      },
      "source": [
        "1-0. 훈련 데이터셋 준비"
      ]
    },
    {
      "cell_type": "code",
      "metadata": {
        "id": "jXxKe2F-vmIv",
        "colab_type": "code",
        "outputId": "e2e686f6-a76d-484c-e64a-37313f97a35c",
        "colab": {
          "base_uri": "https://localhost:8080/",
          "height": 34
        }
      },
      "source": [
        "from sklearn.datasets import load_breast_cancer\n",
        "\n",
        "cancer = load_breast_cancer()\n",
        "\n",
        "x = cancer.data\n",
        "y = cancer.target"
      ],
      "execution_count": 0,
      "outputs": [
        {
          "output_type": "execute_result",
          "data": {
            "text/plain": [
              "((455, 30), (114, 30), (455,), (114,))"
            ]
          },
          "metadata": {
            "tags": []
          },
          "execution_count": 3
        }
      ]
    },
    {
      "cell_type": "markdown",
      "metadata": {
        "id": "4Clz6a5z16kN",
        "colab_type": "text"
      },
      "source": [
        "1-1. 1단계 분할: 8:2로 훈련:테스트로 분할"
      ]
    },
    {
      "cell_type": "code",
      "metadata": {
        "id": "2wr6-n3i1Etf",
        "colab_type": "code",
        "outputId": "3279fa98-68db-4f7e-c52b-593e734b6e4f",
        "colab": {
          "base_uri": "https://localhost:8080/",
          "height": 34
        }
      },
      "source": [
        "from sklearn.model_selection import train_test_split\n",
        "x_train_all, x_test_all, y_train_all, y_test_all = train_test_split(x, y, stratify = y, test_size=.2)\n",
        "x_train_all.shape, x_test_all.shape, y_train_all.shape, y_test_all.shape"
      ],
      "execution_count": 0,
      "outputs": [
        {
          "output_type": "execute_result",
          "data": {
            "text/plain": [
              "((455, 30), (114, 30), (455,), (114,))"
            ]
          },
          "metadata": {
            "tags": []
          },
          "execution_count": 4
        }
      ]
    },
    {
      "cell_type": "markdown",
      "metadata": {
        "id": "pphcEO252gYj",
        "colab_type": "text"
      },
      "source": [
        "1-2. 2단계 분할: 1단계에서 분할된 훈련 데이터 셋을 다시 8:2(훈련:검증)로 분할"
      ]
    },
    {
      "cell_type": "code",
      "metadata": {
        "id": "VHh8hCh42cpT",
        "colab_type": "code",
        "outputId": "200217ab-5555-49dc-f890-d704bb882de2",
        "colab": {
          "base_uri": "https://localhost:8080/",
          "height": 34
        }
      },
      "source": [
        "x_train, x_val, y_train, y_val = train_test_split(x_train_all, y_train_all, test_size = .2, stratify = y_train_all)\n",
        "print( x_train.shape, x_val.shape, y_train.shape, y_val.shape )"
      ],
      "execution_count": 0,
      "outputs": [
        {
          "output_type": "stream",
          "text": [
            "(364, 30) (91, 30) (364,) (91,)\n"
          ],
          "name": "stdout"
        }
      ]
    },
    {
      "cell_type": "markdown",
      "metadata": {
        "id": "tvaQaRp03XRE",
        "colab_type": "text"
      },
      "source": [
        "2-0. 전체 데이터의 전처리(Preprocessing, Munging) 진행  \n",
        "            --> `표준화`: 특정 변수의 변량을 평균 = 0, 분산 = 1로 변환  \n",
        "            --> 이유는 R과 동일: 신경망의 핵심 알고리즘(예: 경사하강법)이 변량이 큰 특성에 영향을 크게 받기 때문"
      ]
    },
    {
      "cell_type": "code",
      "metadata": {
        "id": "g3uT6xnN3H4M",
        "colab_type": "code",
        "outputId": "0da9db46-407e-46ce-96cd-db78833cd14b",
        "colab": {
          "base_uri": "https://localhost:8080/",
          "height": 298
        }
      },
      "source": [
        "# 예제로 30개의 특성중 3/4번째 특성을 박스플롯으로 비교\n",
        "#   데이터 확인\n",
        "print(cancer.feature_names)\n",
        "x[:, [2,3] ]"
      ],
      "execution_count": 0,
      "outputs": [
        {
          "output_type": "stream",
          "text": [
            "['mean radius' 'mean texture' 'mean perimeter' 'mean area'\n",
            " 'mean smoothness' 'mean compactness' 'mean concavity'\n",
            " 'mean concave points' 'mean symmetry' 'mean fractal dimension'\n",
            " 'radius error' 'texture error' 'perimeter error' 'area error'\n",
            " 'smoothness error' 'compactness error' 'concavity error'\n",
            " 'concave points error' 'symmetry error' 'fractal dimension error'\n",
            " 'worst radius' 'worst texture' 'worst perimeter' 'worst area'\n",
            " 'worst smoothness' 'worst compactness' 'worst concavity'\n",
            " 'worst concave points' 'worst symmetry' 'worst fractal dimension']\n"
          ],
          "name": "stdout"
        },
        {
          "output_type": "execute_result",
          "data": {
            "text/plain": [
              "array([[ 122.8 , 1001.  ],\n",
              "       [ 132.9 , 1326.  ],\n",
              "       [ 130.  , 1203.  ],\n",
              "       ...,\n",
              "       [ 108.3 ,  858.1 ],\n",
              "       [ 140.1 , 1265.  ],\n",
              "       [  47.92,  181.  ]])"
            ]
          },
          "metadata": {
            "tags": []
          },
          "execution_count": 8
        }
      ]
    },
    {
      "cell_type": "code",
      "metadata": {
        "id": "cqvomv0e4DlR",
        "colab_type": "code",
        "outputId": "dc7f3f9b-caae-46eb-cab5-380bb27904af",
        "colab": {
          "base_uri": "https://localhost:8080/",
          "height": 279
        }
      },
      "source": [
        "#   시각화\n",
        "import matplotlib.pyplot as plt\n",
        "plt.boxplot(x_train[:, [2,3] ]  )\n",
        "plt.xlabel('features')\n",
        "plt.ylabel('values')\n",
        "\n",
        "plt.show()"
      ],
      "execution_count": 0,
      "outputs": [
        {
          "output_type": "display_data",
          "data": {
            "image/png": "[encoded data removed]",
            "text/plain": [
              "<Figure size 432x288 with 1 Axes>"
            ]
          },
          "metadata": {
            "tags": [],
            "needs_background": "light"
          }
        }
      ]
    },
    {
      "cell_type": "code",
      "metadata": {
        "id": "JsQSdn-Q5VHg",
        "colab_type": "code",
        "outputId": "5af0a810-1ce4-452e-9066-d83d7f2bc604",
        "colab": {
          "base_uri": "https://localhost:8080/",
          "height": 34
        }
      },
      "source": [
        "#   전체 입력 데이터 셋을 표준화    - 1st. method\n",
        "#       scikit-learn package의 StandardScaler 클래스 활용\n",
        "\n",
        "from sklearn.preprocessing import StandardScaler\n",
        "\n",
        "scaler = StandardScaler()       # 1) 표준화 객체 생성\n",
        "scaler.fit(x)                   # 2) 매개변수로 전달한 데이터의 평균, 표준편차 계산(fit)\n",
        "x_scaled = scaler.transform(x)  # 3) 실제 표준화 수행\n",
        "\n",
        "x_scaled.shape"
      ],
      "execution_count": 0,
      "outputs": [
        {
          "output_type": "execute_result",
          "data": {
            "text/plain": [
              "(569, 30)"
            ]
          },
          "metadata": {
            "tags": []
          },
          "execution_count": 11
        }
      ]
    },
    {
      "cell_type": "code",
      "metadata": {
        "id": "2t7rWy4A6f08",
        "colab_type": "code",
        "outputId": "0ad0f588-32c8-4af2-93c6-2b35ba7eb760",
        "colab": {
          "base_uri": "https://localhost:8080/",
          "height": 295
        }
      },
      "source": [
        "plt.boxplot(x_scaled[:, [2,3] ]  )\n",
        "plt.title('Standardised')\n",
        "plt.xlabel('features')\n",
        "plt.ylabel('values')\n",
        "\n",
        "plt.show()"
      ],
      "execution_count": 0,
      "outputs": [
        {
          "output_type": "display_data",
          "data": {
            "image/png": "[encoded data removed]",
            "text/plain": [
              "<Figure size 432x288 with 1 Axes>"
            ]
          },
          "metadata": {
            "tags": [],
            "needs_background": "light"
          }
        }
      ]
    },
    {
      "cell_type": "code",
      "metadata": {
        "id": "nzZe-gfp7QTX",
        "colab_type": "code",
        "colab": {}
      },
      "source": [
        ""
      ],
      "execution_count": 0,
      "outputs": []
    }
  ]
}